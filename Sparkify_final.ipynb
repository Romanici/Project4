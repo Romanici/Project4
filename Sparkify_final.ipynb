{
 "cells": [
  {
   "cell_type": "markdown",
   "metadata": {},
   "source": [
    "# Sparkify Project Workspace\n",
    "This workspace contains a tiny subset (128MB) of the full dataset available (12GB). Feel free to use this workspace to build your project, or to explore a smaller subset with Spark before deploying your cluster on the cloud. Instructions for setting up your Spark cluster is included in the last lesson of the Extracurricular Spark Course content.\n",
    "\n",
    "You can follow the steps below to guide your data analysis and model building portion of this project."
   ]
  },
  {
   "cell_type": "code",
   "execution_count": 1,
   "metadata": {},
   "outputs": [],
   "source": [
    "# import spark libraries\n",
    "from pyspark.sql import SparkSession, Window\n",
    "from pyspark.sql.functions import *\n",
    "from pyspark.sql.types import StringType, IntegerType, FloatType\n",
    "\n",
    "from pyspark.ml import Pipeline\n",
    "from pyspark.ml.classification import LogisticRegression, RandomForestClassifier, GBTClassifier #LinearSVC\n",
    "from pyspark.ml.feature import StandardScaler, VectorAssembler, VectorIndexer, StringIndexer, OneHotEncoder\n",
    "from pyspark.ml.evaluation import MulticlassClassificationEvaluator, RegressionEvaluator, BinaryClassificationEvaluator\n",
    "from pyspark.mllib.evaluation import MulticlassMetrics\n",
    "from pyspark.ml.tuning import CrossValidator, ParamGridBuilder\n",
    "\n",
    "# import general libraries\n",
    "import re\n",
    "import copy\n",
    "import time\n",
    "import datetime\n",
    "import numpy as np\n",
    "import pandas as pd\n",
    "import seaborn as sns\n",
    "import matplotlib.pyplot as plt\n",
    "\n",
    "%matplotlib inline"
   ]
  },
  {
   "cell_type": "code",
   "execution_count": 2,
   "metadata": {},
   "outputs": [],
   "source": [
    "#set seaborn style\n",
    "plt.rcParams['figure.figsize'] = [12, 6]\n",
    "plt.rcParams['figure.dpi'] = 100 \n",
    "sns.set_style('whitegrid')\n",
    "#pd.set_option('float_format', '{:f}'.format)\n",
    "sns.set()"
   ]
  },
  {
   "cell_type": "code",
   "execution_count": 3,
   "metadata": {},
   "outputs": [],
   "source": [
    "# create a Spark session\n",
    "\n",
    "spark = SparkSession \\\n",
    "    .builder \\\n",
    "    .appName(\"Wrangling Data\") \\\n",
    "    .getOrCreate()"
   ]
  },
  {
   "cell_type": "markdown",
   "metadata": {},
   "source": [
    "# Load and Clean Dataset\n",
    "In this workspace, the mini-dataset file is `mini_sparkify_event_data.json`. Load and clean the dataset, checking for invalid or missing data - for example, records without userids or sessionids. "
   ]
  },
  {
   "cell_type": "code",
   "execution_count": 4,
   "metadata": {},
   "outputs": [],
   "source": [
    "# importing the dataset\n",
    "\n",
    "path = \"mini_sparkify_event_data.json\"\n",
    "df = spark.read.json(path)"
   ]
  },
  {
   "cell_type": "code",
   "execution_count": 5,
   "metadata": {
    "scrolled": true
   },
   "outputs": [
    {
     "name": "stdout",
     "output_type": "stream",
     "text": [
      "root\n",
      " |-- artist: string (nullable = true)\n",
      " |-- auth: string (nullable = true)\n",
      " |-- firstName: string (nullable = true)\n",
      " |-- gender: string (nullable = true)\n",
      " |-- itemInSession: long (nullable = true)\n",
      " |-- lastName: string (nullable = true)\n",
      " |-- length: double (nullable = true)\n",
      " |-- level: string (nullable = true)\n",
      " |-- location: string (nullable = true)\n",
      " |-- method: string (nullable = true)\n",
      " |-- page: string (nullable = true)\n",
      " |-- registration: long (nullable = true)\n",
      " |-- sessionId: long (nullable = true)\n",
      " |-- song: string (nullable = true)\n",
      " |-- status: long (nullable = true)\n",
      " |-- ts: long (nullable = true)\n",
      " |-- userAgent: string (nullable = true)\n",
      " |-- userId: string (nullable = true)\n",
      "\n"
     ]
    }
   ],
   "source": [
    "df.printSchema()"
   ]
  },
  {
   "cell_type": "code",
   "execution_count": 5,
   "metadata": {
    "scrolled": true
   },
   "outputs": [
    {
     "data": {
      "text/html": [
       "<div>\n",
       "<style scoped>\n",
       "    .dataframe tbody tr th:only-of-type {\n",
       "        vertical-align: middle;\n",
       "    }\n",
       "\n",
       "    .dataframe tbody tr th {\n",
       "        vertical-align: top;\n",
       "    }\n",
       "\n",
       "    .dataframe thead th {\n",
       "        text-align: right;\n",
       "    }\n",
       "</style>\n",
       "<table border=\"1\" class=\"dataframe\">\n",
       "  <thead>\n",
       "    <tr style=\"text-align: right;\">\n",
       "      <th></th>\n",
       "      <th>artist</th>\n",
       "      <th>auth</th>\n",
       "      <th>firstName</th>\n",
       "      <th>gender</th>\n",
       "      <th>itemInSession</th>\n",
       "      <th>lastName</th>\n",
       "      <th>length</th>\n",
       "      <th>level</th>\n",
       "      <th>location</th>\n",
       "      <th>method</th>\n",
       "      <th>page</th>\n",
       "      <th>registration</th>\n",
       "      <th>sessionId</th>\n",
       "      <th>song</th>\n",
       "      <th>status</th>\n",
       "      <th>ts</th>\n",
       "      <th>userAgent</th>\n",
       "      <th>userId</th>\n",
       "    </tr>\n",
       "  </thead>\n",
       "  <tbody>\n",
       "    <tr>\n",
       "      <th>0</th>\n",
       "      <td>Martha Tilston</td>\n",
       "      <td>Logged In</td>\n",
       "      <td>Colin</td>\n",
       "      <td>M</td>\n",
       "      <td>50</td>\n",
       "      <td>Freeman</td>\n",
       "      <td>277.89016</td>\n",
       "      <td>paid</td>\n",
       "      <td>Bakersfield, CA</td>\n",
       "      <td>PUT</td>\n",
       "      <td>NextSong</td>\n",
       "      <td>1538173362000</td>\n",
       "      <td>29</td>\n",
       "      <td>Rockpools</td>\n",
       "      <td>200</td>\n",
       "      <td>1538352117000</td>\n",
       "      <td>Mozilla/5.0 (Windows NT 6.1; WOW64; rv:31.0) G...</td>\n",
       "      <td>30</td>\n",
       "    </tr>\n",
       "    <tr>\n",
       "      <th>1</th>\n",
       "      <td>Five Iron Frenzy</td>\n",
       "      <td>Logged In</td>\n",
       "      <td>Micah</td>\n",
       "      <td>M</td>\n",
       "      <td>79</td>\n",
       "      <td>Long</td>\n",
       "      <td>236.09424</td>\n",
       "      <td>free</td>\n",
       "      <td>Boston-Cambridge-Newton, MA-NH</td>\n",
       "      <td>PUT</td>\n",
       "      <td>NextSong</td>\n",
       "      <td>1538331630000</td>\n",
       "      <td>8</td>\n",
       "      <td>Canada</td>\n",
       "      <td>200</td>\n",
       "      <td>1538352180000</td>\n",
       "      <td>\"Mozilla/5.0 (Windows NT 6.1; WOW64) AppleWebK...</td>\n",
       "      <td>9</td>\n",
       "    </tr>\n",
       "    <tr>\n",
       "      <th>2</th>\n",
       "      <td>Adam Lambert</td>\n",
       "      <td>Logged In</td>\n",
       "      <td>Colin</td>\n",
       "      <td>M</td>\n",
       "      <td>51</td>\n",
       "      <td>Freeman</td>\n",
       "      <td>282.82730</td>\n",
       "      <td>paid</td>\n",
       "      <td>Bakersfield, CA</td>\n",
       "      <td>PUT</td>\n",
       "      <td>NextSong</td>\n",
       "      <td>1538173362000</td>\n",
       "      <td>29</td>\n",
       "      <td>Time For Miracles</td>\n",
       "      <td>200</td>\n",
       "      <td>1538352394000</td>\n",
       "      <td>Mozilla/5.0 (Windows NT 6.1; WOW64; rv:31.0) G...</td>\n",
       "      <td>30</td>\n",
       "    </tr>\n",
       "    <tr>\n",
       "      <th>3</th>\n",
       "      <td>Enigma</td>\n",
       "      <td>Logged In</td>\n",
       "      <td>Micah</td>\n",
       "      <td>M</td>\n",
       "      <td>80</td>\n",
       "      <td>Long</td>\n",
       "      <td>262.71302</td>\n",
       "      <td>free</td>\n",
       "      <td>Boston-Cambridge-Newton, MA-NH</td>\n",
       "      <td>PUT</td>\n",
       "      <td>NextSong</td>\n",
       "      <td>1538331630000</td>\n",
       "      <td>8</td>\n",
       "      <td>Knocking On Forbidden Doors</td>\n",
       "      <td>200</td>\n",
       "      <td>1538352416000</td>\n",
       "      <td>\"Mozilla/5.0 (Windows NT 6.1; WOW64) AppleWebK...</td>\n",
       "      <td>9</td>\n",
       "    </tr>\n",
       "    <tr>\n",
       "      <th>4</th>\n",
       "      <td>Daft Punk</td>\n",
       "      <td>Logged In</td>\n",
       "      <td>Colin</td>\n",
       "      <td>M</td>\n",
       "      <td>52</td>\n",
       "      <td>Freeman</td>\n",
       "      <td>223.60771</td>\n",
       "      <td>paid</td>\n",
       "      <td>Bakersfield, CA</td>\n",
       "      <td>PUT</td>\n",
       "      <td>NextSong</td>\n",
       "      <td>1538173362000</td>\n",
       "      <td>29</td>\n",
       "      <td>Harder Better Faster Stronger</td>\n",
       "      <td>200</td>\n",
       "      <td>1538352676000</td>\n",
       "      <td>Mozilla/5.0 (Windows NT 6.1; WOW64; rv:31.0) G...</td>\n",
       "      <td>30</td>\n",
       "    </tr>\n",
       "    <tr>\n",
       "      <th>5</th>\n",
       "      <td>The All-American Rejects</td>\n",
       "      <td>Logged In</td>\n",
       "      <td>Micah</td>\n",
       "      <td>M</td>\n",
       "      <td>81</td>\n",
       "      <td>Long</td>\n",
       "      <td>208.29995</td>\n",
       "      <td>free</td>\n",
       "      <td>Boston-Cambridge-Newton, MA-NH</td>\n",
       "      <td>PUT</td>\n",
       "      <td>NextSong</td>\n",
       "      <td>1538331630000</td>\n",
       "      <td>8</td>\n",
       "      <td>Don't Leave Me</td>\n",
       "      <td>200</td>\n",
       "      <td>1538352678000</td>\n",
       "      <td>\"Mozilla/5.0 (Windows NT 6.1; WOW64) AppleWebK...</td>\n",
       "      <td>9</td>\n",
       "    </tr>\n",
       "    <tr>\n",
       "      <th>6</th>\n",
       "      <td>The Velvet Underground / Nico</td>\n",
       "      <td>Logged In</td>\n",
       "      <td>Micah</td>\n",
       "      <td>M</td>\n",
       "      <td>82</td>\n",
       "      <td>Long</td>\n",
       "      <td>260.46649</td>\n",
       "      <td>free</td>\n",
       "      <td>Boston-Cambridge-Newton, MA-NH</td>\n",
       "      <td>PUT</td>\n",
       "      <td>NextSong</td>\n",
       "      <td>1538331630000</td>\n",
       "      <td>8</td>\n",
       "      <td>Run Run Run</td>\n",
       "      <td>200</td>\n",
       "      <td>1538352886000</td>\n",
       "      <td>\"Mozilla/5.0 (Windows NT 6.1; WOW64) AppleWebK...</td>\n",
       "      <td>9</td>\n",
       "    </tr>\n",
       "    <tr>\n",
       "      <th>7</th>\n",
       "      <td>Starflyer 59</td>\n",
       "      <td>Logged In</td>\n",
       "      <td>Colin</td>\n",
       "      <td>M</td>\n",
       "      <td>53</td>\n",
       "      <td>Freeman</td>\n",
       "      <td>185.44281</td>\n",
       "      <td>paid</td>\n",
       "      <td>Bakersfield, CA</td>\n",
       "      <td>PUT</td>\n",
       "      <td>NextSong</td>\n",
       "      <td>1538173362000</td>\n",
       "      <td>29</td>\n",
       "      <td>Passengers (Old Album Version)</td>\n",
       "      <td>200</td>\n",
       "      <td>1538352899000</td>\n",
       "      <td>Mozilla/5.0 (Windows NT 6.1; WOW64; rv:31.0) G...</td>\n",
       "      <td>30</td>\n",
       "    </tr>\n",
       "    <tr>\n",
       "      <th>8</th>\n",
       "      <td>None</td>\n",
       "      <td>Logged In</td>\n",
       "      <td>Colin</td>\n",
       "      <td>M</td>\n",
       "      <td>54</td>\n",
       "      <td>Freeman</td>\n",
       "      <td>NaN</td>\n",
       "      <td>paid</td>\n",
       "      <td>Bakersfield, CA</td>\n",
       "      <td>PUT</td>\n",
       "      <td>Add to Playlist</td>\n",
       "      <td>1538173362000</td>\n",
       "      <td>29</td>\n",
       "      <td>None</td>\n",
       "      <td>200</td>\n",
       "      <td>1538352905000</td>\n",
       "      <td>Mozilla/5.0 (Windows NT 6.1; WOW64; rv:31.0) G...</td>\n",
       "      <td>30</td>\n",
       "    </tr>\n",
       "    <tr>\n",
       "      <th>9</th>\n",
       "      <td>Frumpies</td>\n",
       "      <td>Logged In</td>\n",
       "      <td>Colin</td>\n",
       "      <td>M</td>\n",
       "      <td>55</td>\n",
       "      <td>Freeman</td>\n",
       "      <td>134.47791</td>\n",
       "      <td>paid</td>\n",
       "      <td>Bakersfield, CA</td>\n",
       "      <td>PUT</td>\n",
       "      <td>NextSong</td>\n",
       "      <td>1538173362000</td>\n",
       "      <td>29</td>\n",
       "      <td>Fuck Kitty</td>\n",
       "      <td>200</td>\n",
       "      <td>1538353084000</td>\n",
       "      <td>Mozilla/5.0 (Windows NT 6.1; WOW64; rv:31.0) G...</td>\n",
       "      <td>30</td>\n",
       "    </tr>\n",
       "  </tbody>\n",
       "</table>\n",
       "</div>"
      ],
      "text/plain": [
       "                          artist       auth firstName gender  itemInSession  \\\n",
       "0                 Martha Tilston  Logged In     Colin      M             50   \n",
       "1               Five Iron Frenzy  Logged In     Micah      M             79   \n",
       "2                   Adam Lambert  Logged In     Colin      M             51   \n",
       "3                         Enigma  Logged In     Micah      M             80   \n",
       "4                      Daft Punk  Logged In     Colin      M             52   \n",
       "5       The All-American Rejects  Logged In     Micah      M             81   \n",
       "6  The Velvet Underground / Nico  Logged In     Micah      M             82   \n",
       "7                   Starflyer 59  Logged In     Colin      M             53   \n",
       "8                           None  Logged In     Colin      M             54   \n",
       "9                       Frumpies  Logged In     Colin      M             55   \n",
       "\n",
       "  lastName     length level                        location method  \\\n",
       "0  Freeman  277.89016  paid                 Bakersfield, CA    PUT   \n",
       "1     Long  236.09424  free  Boston-Cambridge-Newton, MA-NH    PUT   \n",
       "2  Freeman  282.82730  paid                 Bakersfield, CA    PUT   \n",
       "3     Long  262.71302  free  Boston-Cambridge-Newton, MA-NH    PUT   \n",
       "4  Freeman  223.60771  paid                 Bakersfield, CA    PUT   \n",
       "5     Long  208.29995  free  Boston-Cambridge-Newton, MA-NH    PUT   \n",
       "6     Long  260.46649  free  Boston-Cambridge-Newton, MA-NH    PUT   \n",
       "7  Freeman  185.44281  paid                 Bakersfield, CA    PUT   \n",
       "8  Freeman        NaN  paid                 Bakersfield, CA    PUT   \n",
       "9  Freeman  134.47791  paid                 Bakersfield, CA    PUT   \n",
       "\n",
       "              page   registration  sessionId                            song  \\\n",
       "0         NextSong  1538173362000         29                       Rockpools   \n",
       "1         NextSong  1538331630000          8                          Canada   \n",
       "2         NextSong  1538173362000         29               Time For Miracles   \n",
       "3         NextSong  1538331630000          8     Knocking On Forbidden Doors   \n",
       "4         NextSong  1538173362000         29   Harder Better Faster Stronger   \n",
       "5         NextSong  1538331630000          8                  Don't Leave Me   \n",
       "6         NextSong  1538331630000          8                     Run Run Run   \n",
       "7         NextSong  1538173362000         29  Passengers (Old Album Version)   \n",
       "8  Add to Playlist  1538173362000         29                            None   \n",
       "9         NextSong  1538173362000         29                      Fuck Kitty   \n",
       "\n",
       "   status             ts                                          userAgent  \\\n",
       "0     200  1538352117000  Mozilla/5.0 (Windows NT 6.1; WOW64; rv:31.0) G...   \n",
       "1     200  1538352180000  \"Mozilla/5.0 (Windows NT 6.1; WOW64) AppleWebK...   \n",
       "2     200  1538352394000  Mozilla/5.0 (Windows NT 6.1; WOW64; rv:31.0) G...   \n",
       "3     200  1538352416000  \"Mozilla/5.0 (Windows NT 6.1; WOW64) AppleWebK...   \n",
       "4     200  1538352676000  Mozilla/5.0 (Windows NT 6.1; WOW64; rv:31.0) G...   \n",
       "5     200  1538352678000  \"Mozilla/5.0 (Windows NT 6.1; WOW64) AppleWebK...   \n",
       "6     200  1538352886000  \"Mozilla/5.0 (Windows NT 6.1; WOW64) AppleWebK...   \n",
       "7     200  1538352899000  Mozilla/5.0 (Windows NT 6.1; WOW64; rv:31.0) G...   \n",
       "8     200  1538352905000  Mozilla/5.0 (Windows NT 6.1; WOW64; rv:31.0) G...   \n",
       "9     200  1538353084000  Mozilla/5.0 (Windows NT 6.1; WOW64; rv:31.0) G...   \n",
       "\n",
       "  userId  \n",
       "0     30  \n",
       "1      9  \n",
       "2     30  \n",
       "3      9  \n",
       "4     30  \n",
       "5      9  \n",
       "6      9  \n",
       "7     30  \n",
       "8     30  \n",
       "9     30  "
      ]
     },
     "execution_count": 5,
     "metadata": {},
     "output_type": "execute_result"
    }
   ],
   "source": [
    "pd_df = pd.DataFrame(df.take(10), columns= df.columns)\n",
    "pd_df"
   ]
  },
  {
   "cell_type": "code",
   "execution_count": 6,
   "metadata": {},
   "outputs": [
    {
     "data": {
      "text/plain": [
       "18"
      ]
     },
     "execution_count": 6,
     "metadata": {},
     "output_type": "execute_result"
    }
   ],
   "source": [
    "len(pd_df.columns)"
   ]
  },
  {
   "cell_type": "code",
   "execution_count": 7,
   "metadata": {},
   "outputs": [
    {
     "data": {
      "text/plain": [
       "286500"
      ]
     },
     "execution_count": 7,
     "metadata": {},
     "output_type": "execute_result"
    }
   ],
   "source": [
    "df.count()"
   ]
  },
  {
   "cell_type": "markdown",
   "metadata": {},
   "source": [
    "---"
   ]
  },
  {
   "cell_type": "markdown",
   "metadata": {},
   "source": [
    "### **Clean dataset**"
   ]
  },
  {
   "cell_type": "code",
   "execution_count": 5,
   "metadata": {},
   "outputs": [],
   "source": [
    "def clean_data(df):\n",
    "    \"\"\"\n",
    "    Cleaning the dataset:\n",
    "    Remove special characters from string type variables, remove invalid users, format time variable and location.\n",
    "    \"\"\"\n",
    "    \n",
    "    def registered_days(df):\n",
    "        \"\"\"\n",
    "        For each user calculates number of DAYS between registration to last interaction \n",
    "        \"\"\"\n",
    "        df_last_interaction =  df.groupBy('userId').agg(max('ts').alias('last_interaction'))\n",
    "\n",
    "        df = df_last_interaction.join(df, on='userId').withColumn('registered_days', ((col('last_interaction')-col('registration'))/86400000).cast(IntegerType()))\n",
    "        return df\n",
    "    \n",
    "    # cleanse stringtype fields from special characters\n",
    "    for field in df.schema.fields:\n",
    "        if field.dataType==StringType():\n",
    "            df = df.withColumn(field.name, regexp_replace(field.name, '[^a-zA-Z0-9\\,\\-]', ''))\n",
    "    # remove missing values in userId\n",
    "    df = df.filter(df['userId']!='')\n",
    "    df = df.filter(col('userId').isNotNull()) # not needed in this subset\n",
    "\n",
    "    # Create a user defined function for formating the timestamp\n",
    "    get_time = udf(lambda x: datetime.datetime.fromtimestamp(x / 1000.0).strftime(\"%Y-%m-%d %H:%M:%S\"))\n",
    "    # Apply the udf on the ts column\n",
    "    df = df.withColumn(\"time\", get_time(df.ts))\n",
    "    df = df.withColumn('month', month(col('time')))\n",
    "    df = df.withColumn('day', dayofmonth(col('time')))\n",
    "    df = df.withColumn('hour', hour(col('time')) )\n",
    "    df = df.withColumn(\"input_timestamp\",\\\n",
    "            to_timestamp(col(\"time\"))) \\\n",
    "            .withColumn(\"day_of_year\", date_format(col(\"input_timestamp\"), \"D\"))\n",
    "            \n",
    "    \n",
    "    # We want to keep only the state\n",
    "    df = df.withColumn('state', split(col('location'),',').getItem(1))\n",
    "    \n",
    "    # apply function to obtain days since registration\n",
    "    df = registered_days(df)\n",
    "    \n",
    "    return df"
   ]
  },
  {
   "cell_type": "code",
   "execution_count": 6,
   "metadata": {},
   "outputs": [],
   "source": [
    "dfc = clean_data(df)"
   ]
  },
  {
   "cell_type": "code",
   "execution_count": 25,
   "metadata": {},
   "outputs": [
    {
     "name": "stdout",
     "output_type": "stream",
     "text": [
      "root\n",
      " |-- userId: string (nullable = true)\n",
      " |-- last_interaction: long (nullable = true)\n",
      " |-- artist: string (nullable = true)\n",
      " |-- auth: string (nullable = true)\n",
      " |-- firstName: string (nullable = true)\n",
      " |-- gender: string (nullable = true)\n",
      " |-- itemInSession: long (nullable = true)\n",
      " |-- lastName: string (nullable = true)\n",
      " |-- length: double (nullable = true)\n",
      " |-- level: string (nullable = true)\n",
      " |-- location: string (nullable = true)\n",
      " |-- method: string (nullable = true)\n",
      " |-- page: string (nullable = true)\n",
      " |-- registration: long (nullable = true)\n",
      " |-- sessionId: long (nullable = true)\n",
      " |-- song: string (nullable = true)\n",
      " |-- status: long (nullable = true)\n",
      " |-- ts: long (nullable = true)\n",
      " |-- userAgent: string (nullable = true)\n",
      " |-- time: string (nullable = true)\n",
      " |-- month: integer (nullable = true)\n",
      " |-- day: integer (nullable = true)\n",
      " |-- hour: integer (nullable = true)\n",
      " |-- input_timestamp: timestamp (nullable = true)\n",
      " |-- day_of_year: string (nullable = true)\n",
      " |-- state: string (nullable = true)\n",
      " |-- registered_days: integer (nullable = true)\n",
      "\n"
     ]
    }
   ],
   "source": [
    "dfc.printSchema()"
   ]
  },
  {
   "cell_type": "markdown",
   "metadata": {},
   "source": [
    "Check that all the transformations are OK:"
   ]
  },
  {
   "cell_type": "code",
   "execution_count": 9,
   "metadata": {
    "scrolled": false
   },
   "outputs": [
    {
     "data": {
      "text/plain": [
       "0"
      ]
     },
     "execution_count": 9,
     "metadata": {},
     "output_type": "execute_result"
    }
   ],
   "source": [
    "dfc.filter(dfc['userId']=='').count()\n",
    "#df.filter( col('userId').isnotNull() ).count()"
   ]
  },
  {
   "cell_type": "code",
   "execution_count": 10,
   "metadata": {
    "scrolled": true
   },
   "outputs": [
    {
     "name": "stdout",
     "output_type": "stream",
     "text": [
      "+---+-----+-------------------+-------------+\n",
      "|day|month|               time|           ts|\n",
      "+---+-----+-------------------+-------------+\n",
      "| 21|   11|2018-11-21 18:12:32|1542823952000|\n",
      "| 21|   11|2018-11-21 18:12:31|1542823951000|\n",
      "| 21|   11|2018-11-21 18:08:02|1542823682000|\n",
      "| 21|   11|2018-11-21 18:06:07|1542823567000|\n",
      "| 21|   11|2018-11-21 18:00:57|1542823257000|\n",
      "| 21|   11|2018-11-21 18:00:48|1542823248000|\n",
      "| 21|   11|2018-11-21 17:55:46|1542822946000|\n",
      "| 21|   11|2018-11-21 17:50:41|1542822641000|\n",
      "| 21|   11|2018-11-21 17:47:14|1542822434000|\n",
      "| 21|   11|2018-11-21 17:42:50|1542822170000|\n",
      "+---+-----+-------------------+-------------+\n",
      "only showing top 10 rows\n",
      "\n"
     ]
    }
   ],
   "source": [
    "dfc.select( col(\"day\"), col(\"month\"), col(\"time\"), col(\"ts\")  ).show(10)"
   ]
  },
  {
   "cell_type": "code",
   "execution_count": 11,
   "metadata": {
    "scrolled": true
   },
   "outputs": [
    {
     "name": "stdout",
     "output_type": "stream",
     "text": [
      "+-------------------+-----------+\n",
      "|               time|day_of_year|\n",
      "+-------------------+-----------+\n",
      "|2018-10-08 12:58:54|        281|\n",
      "|2018-10-08 13:02:16|        281|\n",
      "|2018-10-08 13:05:32|        281|\n",
      "|2018-10-08 13:05:33|        281|\n",
      "|2018-10-08 13:09:55|        281|\n",
      "+-------------------+-----------+\n",
      "\n"
     ]
    }
   ],
   "source": [
    "dfc.withColumn(\"input_timestamp\",\\\n",
    "    to_timestamp(col(\"time\"))) \\\n",
    "    .withColumn(\"day_of_year\", date_format(col(\"input_timestamp\"), \"D\")) \\\n",
    "    .select(\"time\", \"day_of_year\").limit(5).show()"
   ]
  },
  {
   "cell_type": "code",
   "execution_count": 12,
   "metadata": {
    "scrolled": true
   },
   "outputs": [
    {
     "name": "stdout",
     "output_type": "stream",
     "text": [
      "+--------------------+-----+\n",
      "|            location|state|\n",
      "+--------------------+-----+\n",
      "|Bridgeport-Stamfo...|   CT|\n",
      "|Bridgeport-Stamfo...|   CT|\n",
      "|Bridgeport-Stamfo...|   CT|\n",
      "|Bridgeport-Stamfo...|   CT|\n",
      "|Bridgeport-Stamfo...|   CT|\n",
      "|Bridgeport-Stamfo...|   CT|\n",
      "|Bridgeport-Stamfo...|   CT|\n",
      "|Bridgeport-Stamfo...|   CT|\n",
      "|Bridgeport-Stamfo...|   CT|\n",
      "|Bridgeport-Stamfo...|   CT|\n",
      "+--------------------+-----+\n",
      "only showing top 10 rows\n",
      "\n"
     ]
    }
   ],
   "source": [
    "dfc.select( col(\"location\"), col(\"state\") ).show(10)"
   ]
  },
  {
   "cell_type": "code",
   "execution_count": 13,
   "metadata": {
    "scrolled": true
   },
   "outputs": [
    {
     "name": "stdout",
     "output_type": "stream",
     "text": [
      "+-------+------------------+\n",
      "|summary|   registered_days|\n",
      "+-------+------------------+\n",
      "|  count|            278154|\n",
      "|   mean| 88.54100606139045|\n",
      "| stddev|40.447587528983775|\n",
      "|    min|                 0|\n",
      "|    max|               256|\n",
      "+-------+------------------+\n",
      "\n"
     ]
    }
   ],
   "source": [
    "dfc.describe(\"registered_days\").show()"
   ]
  },
  {
   "cell_type": "markdown",
   "metadata": {},
   "source": [
    "Now we can use SQL with the cleaned dataset to perform the data analysis"
   ]
  },
  {
   "cell_type": "code",
   "execution_count": 7,
   "metadata": {},
   "outputs": [],
   "source": [
    "#Create a temporary view to perform SQL operations\n",
    "dfc.createOrReplaceTempView(\"usersclean\")"
   ]
  },
  {
   "cell_type": "markdown",
   "metadata": {},
   "source": [
    "---"
   ]
  },
  {
   "cell_type": "markdown",
   "metadata": {},
   "source": [
    "# Exploratory Data Analysis\n",
    "When you're working with the full dataset, perform EDA by loading a small subset of the data and doing basic manipulations within Spark. In this workspace, you are already provided a small subset of data you can explore.\n",
    "\n",
    "### Define Churn\n",
    "\n",
    "Once you've done some preliminary analysis, create a column `Churn` to use as the label for your model. I suggest using the `Cancellation Confirmation` events to define your churn, which happen for both paid and free users. As a bonus task, you can also look into the `Downgrade` events.\n",
    "\n",
    "### Explore Data\n",
    "Once you've defined churn, perform some exploratory data analysis to observe the behavior for users who stayed vs users who churned. You can start by exploring aggregates on these two groups of users, observing how much of a specific action they experienced per a certain time unit or number of songs played."
   ]
  },
  {
   "cell_type": "code",
   "execution_count": 15,
   "metadata": {
    "scrolled": true
   },
   "outputs": [
    {
     "name": "stdout",
     "output_type": "stream",
     "text": [
      "+------+----------------+------------------+--------+---------+------+-------------+---------+---------+-----+--------------------+------+--------+-------------+---------+--------------------+------+-------------+--------------------+-------------------+-----+---+----+-------------------+-----------+-----+---------------+\n",
      "|userId|last_interaction|            artist|    auth|firstName|gender|itemInSession| lastName|   length|level|            location|method|    page| registration|sessionId|                song|status|           ts|           userAgent|               time|month|day|hour|    input_timestamp|day_of_year|state|registered_days|\n",
      "+------+----------------+------------------+--------+---------+------+-------------+---------+---------+-----+--------------------+------+--------+-------------+---------+--------------------+------+-------------+--------------------+-------------------+-----+---+----+-------------------+-----------+-----+---------------+\n",
      "|100010|   1542823952000|SleepingWithSirens|LoggedIn| Darianna|     F|            0|Carpenter|202.97098| free|Bridgeport-Stamfo...|   PUT|NextSong|1538016340000|       31|CaptainTyinKnotsV...|   200|1539003534000|Mozilla50iPhoneCP...|2018-10-08 12:58:54|   10|  8|  12|2018-10-08 12:58:54|        281|   CT|             55|\n",
      "+------+----------------+------------------+--------+---------+------+-------------+---------+---------+-----+--------------------+------+--------+-------------+---------+--------------------+------+-------------+--------------------+-------------------+-----+---+----+-------------------+-----------+-----+---------------+\n",
      "\n"
     ]
    }
   ],
   "source": [
    "spark.sql(\"SELECT * FROM usersclean LIMIT 1\").show()"
   ]
  },
  {
   "cell_type": "code",
   "execution_count": 16,
   "metadata": {
    "scrolled": true
   },
   "outputs": [
    {
     "name": "stdout",
     "output_type": "stream",
     "text": [
      "+-------------------+\n",
      "|          max(time)|\n",
      "+-------------------+\n",
      "|2018-12-03 01:11:16|\n",
      "+-------------------+\n",
      "\n"
     ]
    }
   ],
   "source": [
    "spark.sql(\"SELECT max(time) FROM usersclean\").show()"
   ]
  },
  {
   "cell_type": "code",
   "execution_count": 17,
   "metadata": {
    "scrolled": true
   },
   "outputs": [
    {
     "name": "stdout",
     "output_type": "stream",
     "text": [
      "+-------------------+\n",
      "|          min(time)|\n",
      "+-------------------+\n",
      "|2018-10-01 00:01:57|\n",
      "+-------------------+\n",
      "\n"
     ]
    }
   ],
   "source": [
    "spark.sql(\"SELECT min(time) FROM usersclean\").show()"
   ]
  },
  {
   "cell_type": "code",
   "execution_count": 18,
   "metadata": {
    "scrolled": false
   },
   "outputs": [
    {
     "name": "stdout",
     "output_type": "stream",
     "text": [
      "+---------+----+\n",
      "|     auth|freq|\n",
      "+---------+----+\n",
      "|Cancelled|  52|\n",
      "| LoggedIn| 225|\n",
      "+---------+----+\n",
      "\n"
     ]
    }
   ],
   "source": [
    "spark.sql(\"\"\"\n",
    "          SELECT auth, COUNT(DISTINCT userId) as freq\n",
    "          FROM usersclean\n",
    "          Group BY auth\n",
    "          \"\"\").show()"
   ]
  },
  {
   "cell_type": "code",
   "execution_count": 19,
   "metadata": {
    "scrolled": true
   },
   "outputs": [
    {
     "name": "stdout",
     "output_type": "stream",
     "text": [
      "+---------+-----------+\n",
      "|     auth|user_counts|\n",
      "+---------+-----------+\n",
      "|Cancelled|         52|\n",
      "| LoggedIn|     278102|\n",
      "+---------+-----------+\n",
      "\n"
     ]
    }
   ],
   "source": [
    "spark.sql('''\n",
    "        SELECT auth,COUNT(userId) AS user_counts\n",
    "        FROM usersclean\n",
    "        GROUP BY auth\n",
    "''').show()\n"
   ]
  },
  {
   "cell_type": "code",
   "execution_count": 20,
   "metadata": {},
   "outputs": [
    {
     "name": "stdout",
     "output_type": "stream",
     "text": [
      "+--------------------+----+\n",
      "|           userAgent|freq|\n",
      "+--------------------+----+\n",
      "|Mozilla50compatib...|   1|\n",
      "|Mozilla50WindowsN...|   1|\n",
      "|Mozilla50compatib...|   3|\n",
      "|Mozilla50Macintos...|   2|\n",
      "|Mozilla50WindowsN...|   1|\n",
      "|Mozilla50Macintos...|   2|\n",
      "|Mozilla50compatib...|   1|\n",
      "|Mozilla50WindowsN...|   2|\n",
      "|Mozilla50Macintos...|   1|\n",
      "|Mozilla50X11Ubunt...|   1|\n",
      "|Mozilla50iPadCPUO...|   2|\n",
      "|Mozilla50Macintos...|  10|\n",
      "|Mozilla50WindowsN...|   7|\n",
      "|Mozilla50Macintos...|   1|\n",
      "|Mozilla50Macintos...|   1|\n",
      "|Mozilla50WindowsN...|   1|\n",
      "|Mozilla50WindowsN...|   4|\n",
      "|Mozilla50Macintos...|   9|\n",
      "|Mozilla50WindowsN...|   2|\n",
      "|Mozilla50WindowsN...|   7|\n",
      "+--------------------+----+\n",
      "only showing top 20 rows\n",
      "\n"
     ]
    }
   ],
   "source": [
    "spark.sql(\"\"\"\n",
    "          SELECT userAgent, COUNT(DISTINCT userId) as freq\n",
    "          FROM usersclean\n",
    "          Group BY userAgent\n",
    "          \"\"\").show()"
   ]
  },
  {
   "cell_type": "code",
   "execution_count": 21,
   "metadata": {
    "scrolled": true
   },
   "outputs": [],
   "source": [
    "#spark.sql(\"\"\"\n",
    "#    select time\n",
    "#    ,ROW_NUMBER() OVER (PARTITION BY userId, sessionId ORDER BY time DESC) as rowNum\n",
    "#    from usersclean\n",
    "#\"\"\")"
   ]
  },
  {
   "cell_type": "code",
   "execution_count": 22,
   "metadata": {
    "scrolled": false
   },
   "outputs": [
    {
     "name": "stdout",
     "output_type": "stream",
     "text": [
      "+-------+------------------+\n",
      "|summary|     itemInSession|\n",
      "+-------+------------------+\n",
      "|  count|            286500|\n",
      "|   mean|114.41421291448516|\n",
      "| stddev|129.76726201140994|\n",
      "|    min|                 0|\n",
      "|    max|              1321|\n",
      "+-------+------------------+\n",
      "\n"
     ]
    }
   ],
   "source": [
    "df.describe(\"itemInSession\").show()"
   ]
  },
  {
   "cell_type": "code",
   "execution_count": 13,
   "metadata": {},
   "outputs": [],
   "source": [
    "# could be slow with the big dataset\n",
    "df_user_action = spark.sql('''\n",
    "        SELECT userId, count(userId) as action_freq\n",
    "        FROM usersclean\n",
    "        Group BY userId\n",
    "''').toPandas()\n",
    "\n",
    "# seaborn needs to be updated to use histplot:\n",
    "# sns.histplot(x='registered_days', y= \"user_freq\", data=df_days_registration, binwidth=7);"
   ]
  },
  {
   "cell_type": "code",
   "execution_count": 14,
   "metadata": {},
   "outputs": [],
   "source": [
    "diff_users = spark.sql(\"\"\"\n",
    "          SELECT level, count(level) as freq\n",
    "          FROM usersclean\n",
    "          Group By level\n",
    "          \"\"\")"
   ]
  },
  {
   "cell_type": "code",
   "execution_count": 18,
   "metadata": {},
   "outputs": [
    {
     "name": "stdout",
     "output_type": "stream",
     "text": [
      "+-----+------+\n",
      "|level|  freq|\n",
      "+-----+------+\n",
      "| free| 55721|\n",
      "| paid|222433|\n",
      "+-----+------+\n",
      "\n"
     ]
    }
   ],
   "source": [
    "diff_users.show()"
   ]
  },
  {
   "cell_type": "code",
   "execution_count": 16,
   "metadata": {
    "scrolled": true
   },
   "outputs": [
    {
     "data": {
      "image/png": "[encoded data removed]",
      "text/plain": [
       "<matplotlib.figure.Figure at 0x7f3674aa1b00>"
      ]
     },
     "metadata": {},
     "output_type": "display_data"
    }
   ],
   "source": [
    "sns.set(font_scale = 1);\n",
    "fig, ax = plt.subplots(figsize=(6,7));\n",
    "sns.barplot(x='level',y='freq',data=diff_users.toPandas());"
   ]
  },
  {
   "cell_type": "code",
   "execution_count": 19,
   "metadata": {},
   "outputs": [
    {
     "name": "stdout",
     "output_type": "stream",
     "text": [
      "+-----+---------+\n",
      "|level|user_freq|\n",
      "+-----+---------+\n",
      "| free|      195|\n",
      "| paid|      165|\n",
      "+-----+---------+\n",
      "\n"
     ]
    }
   ],
   "source": [
    "spark.sql('''\n",
    "        SELECT level, COUNT(DISTINCT userId) AS user_freq\n",
    "        FROM usersclean\n",
    "        GROUP BY level\n",
    "        ORDER BY user_freq DESC\n",
    "''').show()"
   ]
  },
  {
   "cell_type": "code",
   "execution_count": 21,
   "metadata": {},
   "outputs": [
    {
     "name": "stdout",
     "output_type": "stream",
     "text": [
      "+---------+\n",
      "|user_freq|\n",
      "+---------+\n",
      "|      225|\n",
      "+---------+\n",
      "\n"
     ]
    }
   ],
   "source": [
    "spark.sql('''\n",
    "        SELECT COUNT(DISTINCT userId) AS user_freq\n",
    "        FROM usersclean\n",
    "''').show()"
   ]
  },
  {
   "cell_type": "code",
   "execution_count": 39,
   "metadata": {},
   "outputs": [
    {
     "name": "stdout",
     "output_type": "stream",
     "text": [
      "+------+-----------+\n",
      "|gender|user_counts|\n",
      "+------+-----------+\n",
      "|     M|        121|\n",
      "|     F|        104|\n",
      "+------+-----------+\n",
      "\n"
     ]
    }
   ],
   "source": [
    "gender_count = spark.sql('''\n",
    "        SELECT gender,COUNT(DISTINCT userId) AS user_counts\n",
    "        FROM usersclean\n",
    "        GROUP BY gender\n",
    "        ORDER BY user_counts DESC\n",
    "''')\n",
    "gender_count.show()"
   ]
  },
  {
   "cell_type": "code",
   "execution_count": 40,
   "metadata": {},
   "outputs": [
    {
     "name": "stdout",
     "output_type": "stream",
     "text": [
      "+---------------+\n",
      "|categories_page|\n",
      "+---------------+\n",
      "|             19|\n",
      "+---------------+\n",
      "\n"
     ]
    }
   ],
   "source": [
    "spark.sql('''\n",
    "        SELECT COUNT(DISTINCT page) AS categories_page\n",
    "        FROM usersclean\n",
    "''').show()"
   ]
  },
  {
   "cell_type": "code",
   "execution_count": 41,
   "metadata": {
    "scrolled": true
   },
   "outputs": [
    {
     "name": "stdout",
     "output_type": "stream",
     "text": [
      "+--------------------+---------+\n",
      "|                page|user_freq|\n",
      "+--------------------+---------+\n",
      "|            NextSong|      225|\n",
      "|                Home|      223|\n",
      "|            ThumbsUp|      220|\n",
      "|       AddtoPlaylist|      215|\n",
      "|              Logout|      213|\n",
      "|          RollAdvert|      207|\n",
      "|           AddFriend|      206|\n",
      "|          ThumbsDown|      203|\n",
      "|            Settings|      195|\n",
      "|                Help|      192|\n",
      "|             Upgrade|      168|\n",
      "|               About|      155|\n",
      "|           Downgrade|      154|\n",
      "|        SaveSettings|      132|\n",
      "|       SubmitUpgrade|      131|\n",
      "|               Error|      117|\n",
      "|CancellationConfi...|       52|\n",
      "|              Cancel|       52|\n",
      "|     SubmitDowngrade|       49|\n",
      "+--------------------+---------+\n",
      "\n"
     ]
    }
   ],
   "source": [
    "spark.sql('''\n",
    "        SELECT page, COUNT(DISTINCT userId) AS user_freq\n",
    "        FROM usersclean\n",
    "        GROUP BY page\n",
    "        ORDER BY user_freq DESC\n",
    "''').show()"
   ]
  },
  {
   "cell_type": "code",
   "execution_count": 42,
   "metadata": {
    "scrolled": true
   },
   "outputs": [
    {
     "data": {
      "image/png": "[encoded data removed]",
      "text/plain": [
       "<matplotlib.figure.Figure at 0x7f0b96bc3240>"
      ]
     },
     "metadata": {},
     "output_type": "display_data"
    }
   ],
   "source": [
    "page_users = spark.sql('''\n",
    "        SELECT page, COUNT(DISTINCT userId) AS user_freq\n",
    "        FROM usersclean\n",
    "        GROUP BY page\n",
    "        ORDER BY user_freq DESC\n",
    "''')\n",
    "\n",
    "page_users = page_users.toPandas()\n",
    "\n",
    "sns.set(font_scale = 2.5)\n",
    "fig, ax = plt.subplots(figsize=(38,15))\n",
    "ax.tick_params(axis='x', rotation=90);\n",
    "pp1 = sns.barplot(x=\"page\", y=\"user_freq\", palette = 'magma', data=page_users, ax=ax);\n",
    "pp1.set_ylabel(\"Number of users\",fontsize=30);\n",
    "pp1.set_xlabel(\"Page categories\",fontsize=30);\n"
   ]
  },
  {
   "cell_type": "code",
   "execution_count": 43,
   "metadata": {},
   "outputs": [
    {
     "name": "stdout",
     "output_type": "stream",
     "text": [
      "+--------------------+---------+\n",
      "|                page|item_freq|\n",
      "+--------------------+---------+\n",
      "|            NextSong|   228108|\n",
      "|            ThumbsUp|    12551|\n",
      "|                Home|    10082|\n",
      "|       AddtoPlaylist|     6526|\n",
      "|           AddFriend|     4277|\n",
      "|          RollAdvert|     3933|\n",
      "|              Logout|     3226|\n",
      "|          ThumbsDown|     2546|\n",
      "|           Downgrade|     2055|\n",
      "|            Settings|     1514|\n",
      "|                Help|     1454|\n",
      "|             Upgrade|      499|\n",
      "|               About|      495|\n",
      "|        SaveSettings|      310|\n",
      "|               Error|      252|\n",
      "|       SubmitUpgrade|      159|\n",
      "|     SubmitDowngrade|       63|\n",
      "|              Cancel|       52|\n",
      "|CancellationConfi...|       52|\n",
      "+--------------------+---------+\n",
      "\n"
     ]
    }
   ],
   "source": [
    "spark.sql('''\n",
    "        SELECT page, COUNT(userId) AS item_freq\n",
    "        FROM usersclean\n",
    "        GROUP BY page\n",
    "        ORDER BY item_freq DESC\n",
    "''').show()"
   ]
  },
  {
   "cell_type": "code",
   "execution_count": 8,
   "metadata": {
    "scrolled": false
   },
   "outputs": [
    {
     "data": {
      "image/png": "[encoded data removed]",
      "text/plain": [
       "<matplotlib.figure.Figure at 0x7f937994aeb8>"
      ]
     },
     "metadata": {},
     "output_type": "display_data"
    }
   ],
   "source": [
    "page_users_all = spark.sql('''\n",
    "        SELECT page, COUNT( userId) AS item_freq\n",
    "        FROM usersclean\n",
    "        GROUP BY page\n",
    "        ORDER BY item_freq DESC\n",
    "''')\n",
    "\n",
    "page_users_all = page_users_all.toPandas()\n",
    "\n",
    "sns.set(font_scale = 2.5)\n",
    "fig, ax = plt.subplots(figsize=(38,15))\n",
    "ax.tick_params(axis='x', rotation=90);\n",
    "pp1 = sns.barplot(x=\"page\", y=\"item_freq\", palette = 'magma', data=page_users_all, ax=ax);\n",
    "pp1.set_ylabel(\"Number of actions\",fontsize=30);\n",
    "pp1.set_xlabel(\"Page categories\",fontsize=30);\n"
   ]
  },
  {
   "cell_type": "code",
   "execution_count": 9,
   "metadata": {},
   "outputs": [
    {
     "name": "stdout",
     "output_type": "stream",
     "text": [
      "+--------------------+---------+\n",
      "|                page|user_freq|\n",
      "+--------------------+---------+\n",
      "|            NextSong|      225|\n",
      "|                Home|      223|\n",
      "|            ThumbsUp|      220|\n",
      "|       AddtoPlaylist|      215|\n",
      "|              Logout|      213|\n",
      "|          RollAdvert|      207|\n",
      "|           AddFriend|      206|\n",
      "|          ThumbsDown|      203|\n",
      "|            Settings|      195|\n",
      "|                Help|      192|\n",
      "|             Upgrade|      168|\n",
      "|               About|      155|\n",
      "|           Downgrade|      154|\n",
      "|        SaveSettings|      132|\n",
      "|       SubmitUpgrade|      131|\n",
      "|               Error|      117|\n",
      "|CancellationConfi...|       52|\n",
      "|              Cancel|       52|\n",
      "|     SubmitDowngrade|       49|\n",
      "+--------------------+---------+\n",
      "\n"
     ]
    }
   ],
   "source": [
    "spark.sql('''\n",
    "        SELECT page, COUNT(DISTINCT userId) AS user_freq\n",
    "        FROM usersclean\n",
    "        GROUP BY page\n",
    "        ORDER BY user_freq DESC\n",
    "''').show()"
   ]
  },
  {
   "cell_type": "code",
   "execution_count": 46,
   "metadata": {},
   "outputs": [
    {
     "name": "stdout",
     "output_type": "stream",
     "text": [
      "+------+----------+\n",
      "|userId|page_categ|\n",
      "+------+----------+\n",
      "|100010|        11|\n",
      "|200002|        14|\n",
      "|   125|         4|\n",
      "|   124|        14|\n",
      "|    51|        15|\n",
      "|     7|        13|\n",
      "|    15|        14|\n",
      "|    54|        19|\n",
      "|   155|        15|\n",
      "|100014|        13|\n",
      "|   132|        16|\n",
      "|   154|         8|\n",
      "|   101|        18|\n",
      "|    11|        17|\n",
      "|   138|        16|\n",
      "|300017|        14|\n",
      "|100021|        13|\n",
      "|    29|        17|\n",
      "|    69|        16|\n",
      "|   112|        13|\n",
      "+------+----------+\n",
      "only showing top 20 rows\n",
      "\n"
     ]
    }
   ],
   "source": [
    "spark.sql('''\n",
    "        SELECT *\n",
    "        FROM (\n",
    "        SELECT userId, count(distinct page) as page_categ\n",
    "        FROM usersclean\n",
    "        GROUP BY userId\n",
    "        )\n",
    "        \n",
    "''').show()"
   ]
  },
  {
   "cell_type": "code",
   "execution_count": 47,
   "metadata": {
    "scrolled": true
   },
   "outputs": [
    {
     "name": "stdout",
     "output_type": "stream",
     "text": [
      "+-------------+\n",
      "|count(userId)|\n",
      "+-------------+\n",
      "|           52|\n",
      "+-------------+\n",
      "\n"
     ]
    }
   ],
   "source": [
    "# SELECT max(page_cancel),avg(page_cancel),min(page_cancel)\n",
    "spark.sql('''\n",
    "        SELECT count(userId)\n",
    "        FROM (\n",
    "        SELECT userId\n",
    "        FROM usersclean\n",
    "        WHERE page == \"CancellationConfirmation\"\n",
    "        GROUP BY userId\n",
    "        )\n",
    "''').show()"
   ]
  },
  {
   "cell_type": "code",
   "execution_count": 48,
   "metadata": {
    "scrolled": false
   },
   "outputs": [
    {
     "name": "stdout",
     "output_type": "stream",
     "text": [
      "+-------------+\n",
      "|count(userId)|\n",
      "+-------------+\n",
      "|           52|\n",
      "+-------------+\n",
      "\n"
     ]
    }
   ],
   "source": [
    "# SELECT max(page_cancel),avg(page_cancel),min(page_cancel)\n",
    "spark.sql('''\n",
    "        SELECT count(userId)\n",
    "        FROM (\n",
    "        SELECT userId, count(page) as page_cancel\n",
    "        FROM usersclean\n",
    "        WHERE (page == \"CancellationConfirmation\") OR (page == \"Cancel\")\n",
    "        GROUP BY userId\n",
    "        )\n",
    "''').show()"
   ]
  },
  {
   "cell_type": "markdown",
   "metadata": {},
   "source": [
    "userId, sessionId, page"
   ]
  },
  {
   "cell_type": "code",
   "execution_count": 49,
   "metadata": {
    "scrolled": true
   },
   "outputs": [
    {
     "name": "stdout",
     "output_type": "stream",
     "text": [
      "+-----------+\n",
      "|total_users|\n",
      "+-----------+\n",
      "|        225|\n",
      "+-----------+\n",
      "\n"
     ]
    }
   ],
   "source": [
    "spark.sql('''\n",
    "        SELECT  COUNT(DISTINCT userId) AS total_users\n",
    "        FROM usersclean\n",
    "''').show()"
   ]
  },
  {
   "cell_type": "code",
   "execution_count": 50,
   "metadata": {
    "scrolled": true
   },
   "outputs": [
    {
     "name": "stdout",
     "output_type": "stream",
     "text": [
      "+-------+-----------------+\n",
      "|summary|           length|\n",
      "+-------+-----------------+\n",
      "|  count|           228108|\n",
      "|   mean|249.1171819778458|\n",
      "| stddev|99.23517921058361|\n",
      "|    min|          0.78322|\n",
      "|    max|       3024.66567|\n",
      "+-------+-----------------+\n",
      "\n"
     ]
    }
   ],
   "source": [
    "df.describe(\"length\").show()"
   ]
  },
  {
   "cell_type": "code",
   "execution_count": 51,
   "metadata": {
    "scrolled": true
   },
   "outputs": [
    {
     "name": "stdout",
     "output_type": "stream",
     "text": [
      "+---------+-----+------+----+\n",
      "|sessionId|level|length|item|\n",
      "+---------+-----+------+----+\n",
      "|       29|    1|    36|  42|\n",
      "|     1642|    1|     0|   1|\n",
      "|     1671|    1|    32|  41|\n",
      "|     2244|    2|   194| 256|\n",
      "|      532|    2|   235| 290|\n",
      "|      264|    1|     1|   2|\n",
      "|     1632|    1|    51|  67|\n",
      "|     1110|    1|    25|  31|\n",
      "|     1607|    1|    20|  28|\n",
      "|     1757|    1|    23|  29|\n",
      "|     1786|    1|    19|  24|\n",
      "|     1574|    1|    27|  35|\n",
      "|      816|    1|    56|  77|\n",
      "|      945|    1|     0|   1|\n",
      "|      682|    1|     0|   2|\n",
      "|     1812|    1|     1|   1|\n",
      "|     1340|    1|    78| 106|\n",
      "|     2120|    1|     7|   9|\n",
      "|      614|    1|     5|   6|\n",
      "|     1496|    1|    26|  31|\n",
      "+---------+-----+------+----+\n",
      "only showing top 20 rows\n",
      "\n"
     ]
    }
   ],
   "source": [
    "# for a random user\n",
    "spark.sql('''\n",
    "        SELECT  sessionId, count( distinct level) as level, count( distinct length) as length, count( distinct itemInSession) as item \n",
    "        FROM ( SELECT *\n",
    "               FROM usersclean\n",
    "               WHERE userId == 30 )\n",
    "        GROUP BY sessionId\n",
    "''').show()"
   ]
  },
  {
   "cell_type": "code",
   "execution_count": 52,
   "metadata": {},
   "outputs": [
    {
     "name": "stdout",
     "output_type": "stream",
     "text": [
      "+---------+-------------+--------------------+\n",
      "|   length|itemInSession|                song|\n",
      "+---------+-------------+--------------------+\n",
      "|     null|            0|                null|\n",
      "|351.81669|            1|          ThirdParty|\n",
      "|  246.282|            2|          ItsWorking|\n",
      "|197.92934|            3|IllRememberAprilD...|\n",
      "|191.81669|            4|   AtmosphereStation|\n",
      "| 323.5522|            5|          ThereThere|\n",
      "|345.70404|            6|TilWeDieAlbumVersion|\n",
      "|179.09506|            7|    LiesAlbumVersion|\n",
      "|230.39955|            8|TheBalladofMichae...|\n",
      "|239.90812|            9|               Gears|\n",
      "|271.35955|           10|           TheseEyes|\n",
      "|     null|           11|                null|\n",
      "|     null|           12|                null|\n",
      "|311.92771|           13|            Stronger|\n",
      "|204.40771|           14|     ThisIsSuchAPity|\n",
      "|239.62077|           15|Strut1993DigitalR...|\n",
      "|192.67873|           16|               Fader|\n",
      "|218.33098|           17|      SeQuiereSeMata|\n",
      "|169.92608|           18|           Somewhere|\n",
      "|236.09424|           19|              Canada|\n",
      "+---------+-------------+--------------------+\n",
      "only showing top 20 rows\n",
      "\n"
     ]
    }
   ],
   "source": [
    "# for a random user and session\n",
    "spark.sql('''\n",
    "        SELECT  length, itemInSession, song\n",
    "        FROM ( SELECT *\n",
    "               FROM usersclean\n",
    "               WHERE userId == 30 and sessionId == 532)\n",
    "''').show()"
   ]
  },
  {
   "cell_type": "code",
   "execution_count": 53,
   "metadata": {},
   "outputs": [
    {
     "name": "stdout",
     "output_type": "stream",
     "text": [
      "+---------+--------+\n",
      "|sessionId|max_item|\n",
      "+---------+--------+\n",
      "|       31|      39|\n",
      "|       78|       8|\n",
      "|      113|      57|\n",
      "|      118|      59|\n",
      "|      133|      73|\n",
      "|      174|     111|\n",
      "|      187|      34|\n",
      "|        2|       6|\n",
      "|       44|      29|\n",
      "|      114|      43|\n",
      "|      163|     157|\n",
      "|      174|     102|\n",
      "|      205|     143|\n",
      "|      174|      10|\n",
      "|      123|     295|\n",
      "|      333|     180|\n",
      "|      420|     476|\n",
      "|      511|       7|\n",
      "|      517|     147|\n",
      "|      628|      10|\n",
      "+---------+--------+\n",
      "only showing top 20 rows\n",
      "\n"
     ]
    }
   ],
   "source": [
    "spark.sql('''\n",
    "        SELECT  sessionId, max(itemInSession) as max_item\n",
    "        FROM usersclean\n",
    "        GROUP BY userId, sessionId\n",
    "''').show()"
   ]
  },
  {
   "cell_type": "code",
   "execution_count": 54,
   "metadata": {
    "scrolled": true
   },
   "outputs": [
    {
     "name": "stdout",
     "output_type": "stream",
     "text": [
      "+-----------------+\n",
      "|    avg(max_item)|\n",
      "+-----------------+\n",
      "|88.98110831234257|\n",
      "+-----------------+\n",
      "\n"
     ]
    }
   ],
   "source": [
    "spark.sql('''\n",
    "        SELECT avg(max_item)\n",
    "        FROM (\n",
    "        SELECT max(itemInSession) as max_item\n",
    "        FROM usersclean\n",
    "        GROUP BY userId, sessionId\n",
    "        )\n",
    "        \n",
    "''').show()"
   ]
  },
  {
   "cell_type": "code",
   "execution_count": 55,
   "metadata": {},
   "outputs": [],
   "source": [
    "userAgent_sample = dfc.select(\"userAgent\").limit(10).toPandas()"
   ]
  },
  {
   "cell_type": "code",
   "execution_count": 56,
   "metadata": {
    "scrolled": false
   },
   "outputs": [
    {
     "data": {
      "text/plain": [
       "'Mozilla50iPhoneCPUiPhoneOS712likeMacOSXAppleWebKit537512KHTML,likeGeckoVersion70Mobile11D257Safari953753'"
      ]
     },
     "execution_count": 56,
     "metadata": {},
     "output_type": "execute_result"
    }
   ],
   "source": [
    "userAgent_sample.userAgent[0]"
   ]
  },
  {
   "cell_type": "code",
   "execution_count": 57,
   "metadata": {
    "scrolled": true
   },
   "outputs": [
    {
     "data": {
      "text/plain": [
       "'Mozilla50iPhoneCPUiPhoneOS712likeMacOSXAppleWebKit537512KHTML,likeGeckoVersion70Mobile11D257Safari953753'"
      ]
     },
     "execution_count": 57,
     "metadata": {},
     "output_type": "execute_result"
    }
   ],
   "source": [
    "userAgent_sample.userAgent[1]"
   ]
  },
  {
   "cell_type": "markdown",
   "metadata": {},
   "source": [
    "Very difficult to analyse the userAgent variable as every device has a different userAgent. But some browser and platforms can be detected."
   ]
  },
  {
   "cell_type": "markdown",
   "metadata": {},
   "source": [
    "---"
   ]
  },
  {
   "cell_type": "markdown",
   "metadata": {},
   "source": [
    "# Feature Engineering\n",
    "Once you've familiarized yourself with the data, build out the features you find promising to train your model on. To work with the full dataset, you can follow the following steps.\n",
    "- Write a script to extract the necessary features from the smaller subset of data\n",
    "- Ensure that your script is scalable, using the best practices discussed in Lesson 3\n",
    "- Try your script on the full data set, debugging your script if necessary\n",
    "\n",
    "If you are working in the classroom workspace, you can just extract features based on the small subset of data contained here. Be sure to transfer over this work to the larger dataset when you work on your Spark cluster."
   ]
  },
  {
   "cell_type": "code",
   "execution_count": 10,
   "metadata": {},
   "outputs": [],
   "source": [
    "def make_feature_engineering(df):\n",
    "\n",
    "    def make_churn_var(df):\n",
    "        \"\"\"\n",
    "        Calculates the variable of interest in order to train a machine learning classifier\n",
    "        Churn or unsubscription from the service\n",
    "        \"\"\"\n",
    "        \n",
    "        df = df.withColumn('churn_action', when(col('page') ==  'CancellationConfirmation', 1).otherwise(0) )\n",
    "        return df\n",
    "    \n",
    "    df = make_churn_var(df)\n",
    "    \n",
    "    # cleaning variable userAgent\n",
    "    \n",
    "    ##### this part of the code is modified from: https://github.com/CapAllen/Sparkify\n",
    "        # get browsers\n",
    "    def get_browser(x):\n",
    "        \"\"\"Assign a browser according to each userAgent\"\"\"\n",
    "        if 'Firefox' in x:\n",
    "            return 'Firefox'\n",
    "        elif 'Safari' in x:\n",
    "            if 'Chrome' in x:\n",
    "                return 'Chrome'\n",
    "            else:\n",
    "                return 'Safari'\n",
    "        elif 'Trident' in x:\n",
    "            return 'IE'\n",
    "        else:\n",
    "            return np.NaN\n",
    "    \n",
    "    browser = udf(lambda x : get_browser(x))\n",
    "    df = df.withColumn('browser', browser(df.userAgent))\n",
    "    \n",
    "        # get platform\n",
    "    platform_dict = {'compatible': 'Windows',  'iPad': 'iPad',  'iPhone': 'iPhone', \"Windows\": \"Windows\",  \n",
    "          'Macintosh': 'Mac',  'Windows NT 5.1': 'Windows','Windows NT 6.0': 'Windows', 'Windows NT 6.1': 'Windows',  \n",
    "          'Windows NT 6.2': 'Windows',  'Windows NT 6.3': 'Windows', 'X11': 'Linux'}\n",
    "    \n",
    "    #### original code again\n",
    "    \n",
    "    def detect_platform(x):\n",
    "        \"\"\"Assign a platform according to each userAgent\"\"\"\n",
    "        for platform in platform_dict:\n",
    "            if re.search(platform , x ) is not None:\n",
    "                return platform_dict[platform]\n",
    "        return \"other\"\n",
    "\n",
    "    get_platform = udf(lambda x: detect_platform(x),StringType())\n",
    "    df = df.withColumn('platform',get_platform(df.userAgent))\n",
    "    \n",
    "    # aggregating variables into users, using SQL queries\n",
    "    df.createOrReplaceTempView(\"dfc_model\")\n",
    "    \n",
    "    user_features = spark.sql('''\n",
    "    SELECT dfc_model.userID, last_time.last_interaction, gender, platform, browser, state, level, registered_days, churn_action, nunique_artist\n",
    "    FROM (\n",
    "    SELECT userID, max(time) as last_interaction, count(distinct artist) as nunique_artist\n",
    "    FROM dfc_model\n",
    "    GROUP BY userID\n",
    "    ) as last_time INNER JOIN dfc_model ON (last_time.last_interaction = dfc_model.time) AND (last_time.userId = dfc_model.userId)\n",
    "    ''')\n",
    "    \n",
    "    user_songs_session = spark.sql('''\n",
    "    SELECT userId, avg(num_songs_ses) as avg_num_songs_ses, count( distinct sessionId) as num_ses\n",
    "    FROM (\n",
    "    SELECT userId, sessionId, max(itemInSession) as num_songs_ses\n",
    "    FROM dfc_model\n",
    "    GROUP BY userId, sessionId\n",
    "    ) \n",
    "    GROUP BY userId\n",
    "    ''')\n",
    "    \n",
    "    user_page_session = spark.sql('''\n",
    "    SELECT addplay.userId, avg_nextsong_ses, avg_addplay_ses\n",
    "    FROM (SELECT userId, avg(num_nextsong_ses) as avg_nextsong_ses\n",
    "    FROM (\n",
    "    SELECT userId, sessionId, count(*) as num_nextsong_ses\n",
    "    FROM dfc_model\n",
    "    WHERE page = \"NextSong\"\n",
    "    GROUP BY userId, sessionId\n",
    "    ) \n",
    "    GROUP BY userId ) as nextsong\n",
    "    \n",
    "    INNER JOIN\n",
    "    (SELECT userId, avg(num_addplay_ses) as avg_addplay_ses\n",
    "    FROM (\n",
    "    SELECT userId, sessionId, count(*) as num_addplay_ses\n",
    "    FROM dfc_model\n",
    "    WHERE page = \"AddtoPlaylist\"\n",
    "    GROUP BY userId, sessionId\n",
    "    ) \n",
    "    GROUP BY userId ) addplay on addplay.userId = nextsong.userId\n",
    "    ''')\n",
    "    \n",
    "    df = user_features.join(user_songs_session, on='userId').join(user_page_session, on=\"userId\")\n",
    "    df = df.drop('last_interaction') \n",
    "    df = df.drop_duplicates()\n",
    "    \n",
    "    # rename our target variable churn_action as \"label\"\n",
    "    df = df.withColumnRenamed('churn_action', 'label')\n",
    "    \n",
    "    return df "
   ]
  },
  {
   "cell_type": "code",
   "execution_count": 11,
   "metadata": {},
   "outputs": [],
   "source": [
    "features_model = make_feature_engineering(dfc)"
   ]
  },
  {
   "cell_type": "code",
   "execution_count": 73,
   "metadata": {
    "scrolled": true
   },
   "outputs": [
    {
     "name": "stdout",
     "output_type": "stream",
     "text": [
      "root\n",
      " |-- userID: string (nullable = true)\n",
      " |-- gender: string (nullable = true)\n",
      " |-- platform: string (nullable = true)\n",
      " |-- browser: string (nullable = true)\n",
      " |-- state: string (nullable = true)\n",
      " |-- level: string (nullable = true)\n",
      " |-- registered_days: integer (nullable = true)\n",
      " |-- label: integer (nullable = false)\n",
      " |-- nunique_artist: long (nullable = false)\n",
      " |-- avg_num_songs_ses: double (nullable = true)\n",
      " |-- num_ses: long (nullable = false)\n",
      " |-- avg_nextsong_ses: double (nullable = true)\n",
      " |-- avg_addplay_ses: double (nullable = true)\n",
      "\n"
     ]
    }
   ],
   "source": [
    "features_model.printSchema()"
   ]
  },
  {
   "cell_type": "code",
   "execution_count": null,
   "metadata": {},
   "outputs": [],
   "source": [
    "#features_model.limit(5).show()"
   ]
  },
  {
   "cell_type": "code",
   "execution_count": 12,
   "metadata": {},
   "outputs": [],
   "source": [
    "features_model.createOrReplaceTempView(\"features_model\")"
   ]
  },
  {
   "cell_type": "code",
   "execution_count": 25,
   "metadata": {},
   "outputs": [
    {
     "name": "stdout",
     "output_type": "stream",
     "text": [
      "+-------------+\n",
      "|count(userID)|\n",
      "+-------------+\n",
      "|           50|\n",
      "+-------------+\n",
      "\n"
     ]
    }
   ],
   "source": [
    "# check that the variable is defined correctly\n",
    "spark.sql('''\n",
    "        SELECT count(userID)\n",
    "        FROM (\n",
    "        SELECT userID\n",
    "        FROM features_model\n",
    "        WHERE label == 1 \n",
    "        GROUP BY userId\n",
    "        )\n",
    "''').show()"
   ]
  },
  {
   "cell_type": "code",
   "execution_count": 30,
   "metadata": {
    "scrolled": false
   },
   "outputs": [
    {
     "name": "stdout",
     "output_type": "stream",
     "text": [
      "+-----+-----+\n",
      "|label|count|\n",
      "+-----+-----+\n",
      "|    1|   50|\n",
      "|    0|  165|\n",
      "+-----+-----+\n",
      "\n"
     ]
    }
   ],
   "source": [
    "features_model.groupBy(\"label\").count().show()"
   ]
  },
  {
   "cell_type": "code",
   "execution_count": 31,
   "metadata": {
    "scrolled": true
   },
   "outputs": [
    {
     "name": "stdout",
     "output_type": "stream",
     "text": [
      "+-------+-----+\n",
      "|browser|count|\n",
      "+-------+-----+\n",
      "|Firefox|   49|\n",
      "| Safari|   46|\n",
      "|     IE|   11|\n",
      "| Chrome|  109|\n",
      "+-------+-----+\n",
      "\n"
     ]
    }
   ],
   "source": [
    "# check the variables were encoded correctly\n",
    "features_model.groupBy(\"browser\").count().show()"
   ]
  },
  {
   "cell_type": "code",
   "execution_count": 32,
   "metadata": {
    "scrolled": true
   },
   "outputs": [
    {
     "name": "stdout",
     "output_type": "stream",
     "text": [
      "+--------+-----+\n",
      "|platform|count|\n",
      "+--------+-----+\n",
      "|    iPad|    3|\n",
      "|  iPhone|   13|\n",
      "|   Linux|   12|\n",
      "|     Mac|   81|\n",
      "| Windows|  106|\n",
      "+--------+-----+\n",
      "\n"
     ]
    }
   ],
   "source": [
    "features_model.groupBy(\"platform\").count().show()"
   ]
  },
  {
   "cell_type": "code",
   "execution_count": 33,
   "metadata": {},
   "outputs": [
    {
     "name": "stdout",
     "output_type": "stream",
     "text": [
      "+-----+-----+\n",
      "|level|count|\n",
      "+-----+-----+\n",
      "| free|   71|\n",
      "| paid|  144|\n",
      "+-----+-----+\n",
      "\n"
     ]
    }
   ],
   "source": [
    "features_model.groupBy(\"level\").count().show()"
   ]
  },
  {
   "cell_type": "code",
   "execution_count": 76,
   "metadata": {
    "scrolled": true
   },
   "outputs": [
    {
     "name": "stdout",
     "output_type": "stream",
     "text": [
      "+------------------+------------------+\n",
      "|min(diff_platform)|max(diff_platform)|\n",
      "+------------------+------------------+\n",
      "|                 1|                 1|\n",
      "+------------------+------------------+\n",
      "\n"
     ]
    }
   ],
   "source": [
    "spark.sql('''\n",
    "    SELECT min(diff_platform), max(diff_platform)\n",
    "    FROM (\n",
    "        SELECT userId, count( distinct platform ) as diff_platform\n",
    "        FROM features_model\n",
    "        GROUP BY  userId\n",
    "        )\n",
    "''').show()"
   ]
  },
  {
   "cell_type": "code",
   "execution_count": null,
   "metadata": {
    "scrolled": false
   },
   "outputs": [],
   "source": [
    "spark.sql('''\n",
    "    SELECT min(diff_browser), max(diff_browser)\n",
    "    FROM (\n",
    "        SELECT userId, count( distinct browser ) as diff_browser\n",
    "        FROM features_model\n",
    "        GROUP BY  userId\n",
    "        )\n",
    "''').show()"
   ]
  },
  {
   "cell_type": "code",
   "execution_count": null,
   "metadata": {},
   "outputs": [],
   "source": [
    "spark.sql('''\n",
    "        SELECT userId, count( distinct level ) as categ_level\n",
    "        FROM features_model\n",
    "        GROUP BY  userId ''')"
   ]
  },
  {
   "cell_type": "code",
   "execution_count": null,
   "metadata": {},
   "outputs": [],
   "source": []
  },
  {
   "cell_type": "code",
   "execution_count": null,
   "metadata": {},
   "outputs": [],
   "source": [
    "#df_cleaned_cancel.dropDuplicates(['userId']).select('Churn').groupby('Churn').count().collect()"
   ]
  },
  {
   "cell_type": "code",
   "execution_count": null,
   "metadata": {},
   "outputs": [],
   "source": [
    "#df_cleaned_cancel.select([\"Churn\", \"length\"]).groupby([\"Churn\"]).agg(avg('length').alias('mean_length'), \n",
    "#                                                                     stddev('length').alias('stdev_length'),\n",
    "#                                                                     max('length').alias('max_length'),\n",
    "#                                                                     min('length').alias('min_length')).show()"
   ]
  },
  {
   "cell_type": "markdown",
   "metadata": {},
   "source": [
    "---"
   ]
  },
  {
   "cell_type": "markdown",
   "metadata": {},
   "source": [
    "Variables for the model:  \n",
    "**y: churn (binary), the user has cancelled the service.   \n",
    "X**:\n",
    "- Time pass from registration to last interaction in days\n",
    "- Gender\n",
    "- Level (paid or free) as % of the total time\n",
    "- Location (US's state)\n",
    "- Type of browser\n",
    "- Type of platform\n",
    "- Average of the number of songs per session per user\n",
    "- Total number of sessions per user \n",
    "- Hour of the last interaction\n",
    "- Average per session of selected Page categories\n",
    "- Number of artists the user listen"
   ]
  },
  {
   "cell_type": "code",
   "execution_count": 13,
   "metadata": {},
   "outputs": [],
   "source": [
    "# so far we are not going to use them, we should need tests with the complete dataset:\n",
    "features_model = features_model.drop('state','browser','userId') "
   ]
  },
  {
   "cell_type": "code",
   "execution_count": 11,
   "metadata": {
    "scrolled": false
   },
   "outputs": [
    {
     "name": "stdout",
     "output_type": "stream",
     "text": [
      "root\n",
      " |-- gender: string (nullable = true)\n",
      " |-- platform: string (nullable = true)\n",
      " |-- level: string (nullable = true)\n",
      " |-- registered_days: integer (nullable = true)\n",
      " |-- label: integer (nullable = false)\n",
      " |-- nunique_artist: long (nullable = false)\n",
      " |-- avg_num_songs_ses: double (nullable = true)\n",
      " |-- num_ses: long (nullable = false)\n",
      " |-- avg_nextsong_ses: double (nullable = true)\n",
      " |-- avg_addplay_ses: double (nullable = true)\n",
      "\n"
     ]
    }
   ],
   "source": [
    "features_model.printSchema()\n",
    "# features_model.schema.fields "
   ]
  },
  {
   "cell_type": "code",
   "execution_count": null,
   "metadata": {},
   "outputs": [],
   "source": []
  },
  {
   "cell_type": "code",
   "execution_count": 12,
   "metadata": {},
   "outputs": [
    {
     "data": {
      "text/plain": [
       "['gender',\n",
       " 'platform',\n",
       " 'level',\n",
       " 'registered_days',\n",
       " 'label',\n",
       " 'nunique_artist',\n",
       " 'avg_num_songs_ses',\n",
       " 'num_ses',\n",
       " 'avg_nextsong_ses',\n",
       " 'avg_addplay_ses']"
      ]
     },
     "execution_count": 12,
     "metadata": {},
     "output_type": "execute_result"
    }
   ],
   "source": [
    "features_model.columns"
   ]
  },
  {
   "cell_type": "code",
   "execution_count": 13,
   "metadata": {
    "scrolled": true
   },
   "outputs": [
    {
     "data": {
      "text/html": [
       "<div>\n",
       "<style scoped>\n",
       "    .dataframe tbody tr th:only-of-type {\n",
       "        vertical-align: middle;\n",
       "    }\n",
       "\n",
       "    .dataframe tbody tr th {\n",
       "        vertical-align: top;\n",
       "    }\n",
       "\n",
       "    .dataframe thead th {\n",
       "        text-align: right;\n",
       "    }\n",
       "</style>\n",
       "<table border=\"1\" class=\"dataframe\">\n",
       "  <thead>\n",
       "    <tr style=\"text-align: right;\">\n",
       "      <th></th>\n",
       "      <th>gender</th>\n",
       "      <th>platform</th>\n",
       "      <th>level</th>\n",
       "      <th>registered_days</th>\n",
       "      <th>label</th>\n",
       "      <th>nunique_artist</th>\n",
       "      <th>avg_num_songs_ses</th>\n",
       "      <th>num_ses</th>\n",
       "      <th>avg_nextsong_ses</th>\n",
       "      <th>avg_addplay_ses</th>\n",
       "    </tr>\n",
       "  </thead>\n",
       "  <tbody>\n",
       "    <tr>\n",
       "      <th>0</th>\n",
       "      <td>F</td>\n",
       "      <td>iPhone</td>\n",
       "      <td>free</td>\n",
       "      <td>55</td>\n",
       "      <td>0</td>\n",
       "      <td>252</td>\n",
       "      <td>54.428571</td>\n",
       "      <td>7</td>\n",
       "      <td>39.285714</td>\n",
       "      <td>1.400000</td>\n",
       "    </tr>\n",
       "    <tr>\n",
       "      <th>1</th>\n",
       "      <td>M</td>\n",
       "      <td>iPhone</td>\n",
       "      <td>paid</td>\n",
       "      <td>70</td>\n",
       "      <td>0</td>\n",
       "      <td>338</td>\n",
       "      <td>80.000000</td>\n",
       "      <td>6</td>\n",
       "      <td>64.500000</td>\n",
       "      <td>1.600000</td>\n",
       "    </tr>\n",
       "    <tr>\n",
       "      <th>2</th>\n",
       "      <td>F</td>\n",
       "      <td>Mac</td>\n",
       "      <td>paid</td>\n",
       "      <td>131</td>\n",
       "      <td>0</td>\n",
       "      <td>2229</td>\n",
       "      <td>170.137931</td>\n",
       "      <td>29</td>\n",
       "      <td>145.678571</td>\n",
       "      <td>5.363636</td>\n",
       "    </tr>\n",
       "    <tr>\n",
       "      <th>3</th>\n",
       "      <td>M</td>\n",
       "      <td>Windows</td>\n",
       "      <td>paid</td>\n",
       "      <td>19</td>\n",
       "      <td>1</td>\n",
       "      <td>1385</td>\n",
       "      <td>251.900000</td>\n",
       "      <td>10</td>\n",
       "      <td>211.100000</td>\n",
       "      <td>5.777778</td>\n",
       "    </tr>\n",
       "    <tr>\n",
       "      <th>4</th>\n",
       "      <td>M</td>\n",
       "      <td>Windows</td>\n",
       "      <td>free</td>\n",
       "      <td>72</td>\n",
       "      <td>0</td>\n",
       "      <td>142</td>\n",
       "      <td>28.428571</td>\n",
       "      <td>7</td>\n",
       "      <td>21.428571</td>\n",
       "      <td>1.666667</td>\n",
       "    </tr>\n",
       "    <tr>\n",
       "      <th>5</th>\n",
       "      <td>M</td>\n",
       "      <td>Windows</td>\n",
       "      <td>paid</td>\n",
       "      <td>56</td>\n",
       "      <td>0</td>\n",
       "      <td>1302</td>\n",
       "      <td>154.866667</td>\n",
       "      <td>15</td>\n",
       "      <td>136.714286</td>\n",
       "      <td>4.214286</td>\n",
       "    </tr>\n",
       "    <tr>\n",
       "      <th>6</th>\n",
       "      <td>F</td>\n",
       "      <td>Windows</td>\n",
       "      <td>paid</td>\n",
       "      <td>110</td>\n",
       "      <td>1</td>\n",
       "      <td>1744</td>\n",
       "      <td>94.216216</td>\n",
       "      <td>37</td>\n",
       "      <td>81.171429</td>\n",
       "      <td>3.428571</td>\n",
       "    </tr>\n",
       "    <tr>\n",
       "      <th>7</th>\n",
       "      <td>F</td>\n",
       "      <td>Windows</td>\n",
       "      <td>paid</td>\n",
       "      <td>23</td>\n",
       "      <td>0</td>\n",
       "      <td>643</td>\n",
       "      <td>171.666667</td>\n",
       "      <td>6</td>\n",
       "      <td>136.666667</td>\n",
       "      <td>4.000000</td>\n",
       "    </tr>\n",
       "    <tr>\n",
       "      <th>8</th>\n",
       "      <td>M</td>\n",
       "      <td>Windows</td>\n",
       "      <td>paid</td>\n",
       "      <td>85</td>\n",
       "      <td>1</td>\n",
       "      <td>233</td>\n",
       "      <td>51.833333</td>\n",
       "      <td>6</td>\n",
       "      <td>42.833333</td>\n",
       "      <td>2.333333</td>\n",
       "    </tr>\n",
       "    <tr>\n",
       "      <th>9</th>\n",
       "      <td>F</td>\n",
       "      <td>Mac</td>\n",
       "      <td>paid</td>\n",
       "      <td>66</td>\n",
       "      <td>0</td>\n",
       "      <td>1298</td>\n",
       "      <td>147.937500</td>\n",
       "      <td>16</td>\n",
       "      <td>120.500000</td>\n",
       "      <td>3.800000</td>\n",
       "    </tr>\n",
       "  </tbody>\n",
       "</table>\n",
       "</div>"
      ],
      "text/plain": [
       "  gender platform level  registered_days  label  nunique_artist  \\\n",
       "0      F   iPhone  free               55      0             252   \n",
       "1      M   iPhone  paid               70      0             338   \n",
       "2      F      Mac  paid              131      0            2229   \n",
       "3      M  Windows  paid               19      1            1385   \n",
       "4      M  Windows  free               72      0             142   \n",
       "5      M  Windows  paid               56      0            1302   \n",
       "6      F  Windows  paid              110      1            1744   \n",
       "7      F  Windows  paid               23      0             643   \n",
       "8      M  Windows  paid               85      1             233   \n",
       "9      F      Mac  paid               66      0            1298   \n",
       "\n",
       "   avg_num_songs_ses  num_ses  avg_nextsong_ses  avg_addplay_ses  \n",
       "0          54.428571        7         39.285714         1.400000  \n",
       "1          80.000000        6         64.500000         1.600000  \n",
       "2         170.137931       29        145.678571         5.363636  \n",
       "3         251.900000       10        211.100000         5.777778  \n",
       "4          28.428571        7         21.428571         1.666667  \n",
       "5         154.866667       15        136.714286         4.214286  \n",
       "6          94.216216       37         81.171429         3.428571  \n",
       "7         171.666667        6        136.666667         4.000000  \n",
       "8          51.833333        6         42.833333         2.333333  \n",
       "9         147.937500       16        120.500000         3.800000  "
      ]
     },
     "execution_count": 13,
     "metadata": {},
     "output_type": "execute_result"
    }
   ],
   "source": [
    "# visualisation as a pandas dataframe\n",
    "pd_features_model = pd.DataFrame(features_model.take(10), columns= features_model.columns)\n",
    "pd_features_model"
   ]
  },
  {
   "cell_type": "markdown",
   "metadata": {},
   "source": [
    "X = [3 strings, 6 numeric]. y = 1 numeric (binary)"
   ]
  },
  {
   "cell_type": "code",
   "execution_count": 14,
   "metadata": {},
   "outputs": [],
   "source": [
    "cat_cols = [\"gender\",\"platform\",\"level\"]\n",
    "num_cols = [\"registered_days\",\"nunique_artist\",\"avg_num_songs_ses\",\"num_ses\",\"avg_nextsong_ses\", \"avg_addplay_ses\"]"
   ]
  },
  {
   "cell_type": "code",
   "execution_count": 15,
   "metadata": {},
   "outputs": [],
   "source": [
    "# This cell's code is taken from this post:\n",
    "# https://towardsdatascience.com/build-an-end-to-end-machine-learning-model-with-mllib-in-pyspark-4917bdf289c5\n",
    "\n",
    "stages = []\n",
    "for categoricalCol in cat_cols:\n",
    "    stringIndexer = StringIndexer(inputCol = categoricalCol, outputCol = categoricalCol + 'Index')\n",
    "    encoder = OneHotEncoder(inputCol=stringIndexer.getOutputCol(), outputCol=categoricalCol + \"classVec\")\n",
    "\n",
    "    stages += [stringIndexer, encoder]\n",
    "    \n",
    "assemblerInputs = [c + \"classVec\" for c in cat_cols] + num_cols\n",
    "assembler = VectorAssembler(inputCols=assemblerInputs, outputCol=\"features\")\n",
    "stages += [assembler]\n",
    "\n",
    "# We use the OneHotEncoderEstimator from MLlib in spark to convert each categorical feature into one-hot vectors\n",
    "# next, we use VectorAssembler to combine the resulted one-hot ector and the rest of numerical features into a \n",
    "# single vector column. We append every step of the process in a stages array"
   ]
  },
  {
   "cell_type": "code",
   "execution_count": 38,
   "metadata": {
    "scrolled": false
   },
   "outputs": [
    {
     "data": {
      "text/plain": [
       "['genderclassVec',\n",
       " 'platformclassVec',\n",
       " 'levelclassVec',\n",
       " 'registered_days',\n",
       " 'nunique_artist',\n",
       " 'avg_num_songs_ses',\n",
       " 'num_ses',\n",
       " 'avg_nextsong_ses',\n",
       " 'avg_addplay_ses']"
      ]
     },
     "execution_count": 38,
     "metadata": {},
     "output_type": "execute_result"
    }
   ],
   "source": [
    "assemblerInputs"
   ]
  },
  {
   "cell_type": "code",
   "execution_count": 16,
   "metadata": {},
   "outputs": [],
   "source": [
    "# we use a pipeline to apply all the stages of transformation\n",
    "# from pyspark.ml import Pipeline\n",
    "cols = features_model.columns\n",
    "pipeline = Pipeline(stages = stages)\n",
    "pipelineModel = pipeline.fit(features_model)\n",
    "model_data_raw = pipelineModel.transform(features_model)\n",
    "\n",
    "# select the columns we want\n",
    "#selectedCols = ['features']+ cols\n",
    "#features_model_transf = features_model_transf.select(selectedCols)\n",
    "#pd.DataFrame(features_model_transf.take(5), columns=features_model_transf.columns)"
   ]
  },
  {
   "cell_type": "code",
   "execution_count": 17,
   "metadata": {},
   "outputs": [],
   "source": [
    "model_data = model_data_raw.select(\"label\",\"features\")"
   ]
  },
  {
   "cell_type": "code",
   "execution_count": 54,
   "metadata": {
    "scrolled": false
   },
   "outputs": [
    {
     "data": {
      "text/plain": [
       "['label', 'features']"
      ]
     },
     "execution_count": 54,
     "metadata": {},
     "output_type": "execute_result"
    }
   ],
   "source": [
    "model_data.columns"
   ]
  },
  {
   "cell_type": "code",
   "execution_count": 53,
   "metadata": {
    "scrolled": true
   },
   "outputs": [
    {
     "data": {
      "text/html": [
       "<div>\n",
       "<style scoped>\n",
       "    .dataframe tbody tr th:only-of-type {\n",
       "        vertical-align: middle;\n",
       "    }\n",
       "\n",
       "    .dataframe tbody tr th {\n",
       "        vertical-align: top;\n",
       "    }\n",
       "\n",
       "    .dataframe thead th {\n",
       "        text-align: right;\n",
       "    }\n",
       "</style>\n",
       "<table border=\"1\" class=\"dataframe\">\n",
       "  <thead>\n",
       "    <tr style=\"text-align: right;\">\n",
       "      <th></th>\n",
       "      <th>label</th>\n",
       "      <th>features</th>\n",
       "    </tr>\n",
       "  </thead>\n",
       "  <tbody>\n",
       "    <tr>\n",
       "      <th>0</th>\n",
       "      <td>0</td>\n",
       "      <td>[0.0, 0.0, 0.0, 1.0, 0.0, 0.0, 55.0, 252.0, 54...</td>\n",
       "    </tr>\n",
       "    <tr>\n",
       "      <th>1</th>\n",
       "      <td>0</td>\n",
       "      <td>[1.0, 0.0, 0.0, 1.0, 0.0, 1.0, 70.0, 338.0, 80...</td>\n",
       "    </tr>\n",
       "    <tr>\n",
       "      <th>2</th>\n",
       "      <td>0</td>\n",
       "      <td>[0.0, 0.0, 1.0, 0.0, 0.0, 1.0, 131.0, 2229.0, ...</td>\n",
       "    </tr>\n",
       "    <tr>\n",
       "      <th>3</th>\n",
       "      <td>1</td>\n",
       "      <td>[1.0, 1.0, 0.0, 0.0, 0.0, 1.0, 19.0, 1385.0, 2...</td>\n",
       "    </tr>\n",
       "    <tr>\n",
       "      <th>4</th>\n",
       "      <td>0</td>\n",
       "      <td>[1.0, 1.0, 0.0, 0.0, 0.0, 0.0, 72.0, 142.0, 28...</td>\n",
       "    </tr>\n",
       "    <tr>\n",
       "      <th>5</th>\n",
       "      <td>0</td>\n",
       "      <td>[1.0, 1.0, 0.0, 0.0, 0.0, 1.0, 56.0, 1302.0, 1...</td>\n",
       "    </tr>\n",
       "    <tr>\n",
       "      <th>6</th>\n",
       "      <td>1</td>\n",
       "      <td>[0.0, 1.0, 0.0, 0.0, 0.0, 1.0, 110.0, 1744.0, ...</td>\n",
       "    </tr>\n",
       "    <tr>\n",
       "      <th>7</th>\n",
       "      <td>0</td>\n",
       "      <td>[0.0, 1.0, 0.0, 0.0, 0.0, 1.0, 23.0, 643.0, 17...</td>\n",
       "    </tr>\n",
       "    <tr>\n",
       "      <th>8</th>\n",
       "      <td>1</td>\n",
       "      <td>[1.0, 1.0, 0.0, 0.0, 0.0, 1.0, 85.0, 233.0, 51...</td>\n",
       "    </tr>\n",
       "    <tr>\n",
       "      <th>9</th>\n",
       "      <td>0</td>\n",
       "      <td>[0.0, 0.0, 1.0, 0.0, 0.0, 1.0, 66.0, 1298.0, 1...</td>\n",
       "    </tr>\n",
       "  </tbody>\n",
       "</table>\n",
       "</div>"
      ],
      "text/plain": [
       "   label                                           features\n",
       "0      0  [0.0, 0.0, 0.0, 1.0, 0.0, 0.0, 55.0, 252.0, 54...\n",
       "1      0  [1.0, 0.0, 0.0, 1.0, 0.0, 1.0, 70.0, 338.0, 80...\n",
       "2      0  [0.0, 0.0, 1.0, 0.0, 0.0, 1.0, 131.0, 2229.0, ...\n",
       "3      1  [1.0, 1.0, 0.0, 0.0, 0.0, 1.0, 19.0, 1385.0, 2...\n",
       "4      0  [1.0, 1.0, 0.0, 0.0, 0.0, 0.0, 72.0, 142.0, 28...\n",
       "5      0  [1.0, 1.0, 0.0, 0.0, 0.0, 1.0, 56.0, 1302.0, 1...\n",
       "6      1  [0.0, 1.0, 0.0, 0.0, 0.0, 1.0, 110.0, 1744.0, ...\n",
       "7      0  [0.0, 1.0, 0.0, 0.0, 0.0, 1.0, 23.0, 643.0, 17...\n",
       "8      1  [1.0, 1.0, 0.0, 0.0, 0.0, 1.0, 85.0, 233.0, 51...\n",
       "9      0  [0.0, 0.0, 1.0, 0.0, 0.0, 1.0, 66.0, 1298.0, 1..."
      ]
     },
     "execution_count": 53,
     "metadata": {},
     "output_type": "execute_result"
    }
   ],
   "source": [
    "pd_model_data = pd.DataFrame(model_data.take(10), columns= model_data.columns)\n",
    "pd_model_data"
   ]
  },
  {
   "cell_type": "markdown",
   "metadata": {},
   "source": [
    "# Modeling\n",
    "Split the full dataset into train, test, and validation sets. Test out several of the machine learning methods you learned. Evaluate the accuracy of the various models, tuning parameters as necessary. Determine your winning model based on test accuracy and report results on the validation set. Since the churned users are a fairly small subset, I suggest using F1 score as the metric to optimize."
   ]
  },
  {
   "cell_type": "markdown",
   "metadata": {},
   "source": [
    "FIRST training with logistic regression"
   ]
  },
  {
   "cell_type": "code",
   "execution_count": 18,
   "metadata": {},
   "outputs": [],
   "source": [
    "# Split the data into train and test subsets\n",
    "train, test = model_data.randomSplit([0.8, 0.2], seed=1997)"
   ]
  },
  {
   "cell_type": "code",
   "execution_count": 31,
   "metadata": {},
   "outputs": [],
   "source": [
    "LR = LogisticRegression(featuresCol = 'features', labelCol = 'label', maxIter=15)\n",
    "LR_model = LR.fit(train)"
   ]
  },
  {
   "cell_type": "code",
   "execution_count": 32,
   "metadata": {
    "scrolled": true
   },
   "outputs": [
    {
     "data": {
      "image/png": "[encoded data removed]",
      "text/plain": [
       "<matplotlib.figure.Figure at 0x7f84eed64358>"
      ]
     },
     "metadata": {},
     "output_type": "display_data"
    },
    {
     "name": "stdout",
     "output_type": "stream",
     "text": [
      "Training set ROC: 0.8119235836627142\n"
     ]
    }
   ],
   "source": [
    "trainingSummary = LR_model.summary\n",
    "roc = trainingSummary.roc.toPandas()\n",
    "plt.plot(roc['FPR'],roc['TPR'])\n",
    "plt.ylabel('False Positive Rate')\n",
    "plt.xlabel('True Positive Rate')\n",
    "plt.title('ROC Curve')\n",
    "plt.show()\n",
    "print('Training set ROC: ' + str(trainingSummary.areaUnderROC))"
   ]
  },
  {
   "cell_type": "code",
   "execution_count": 43,
   "metadata": {
    "scrolled": true
   },
   "outputs": [
    {
     "name": "stdout",
     "output_type": "stream",
     "text": [
      "Coefficients: [0.165523667512,2.26810762694,2.33015495823,2.94206975211,2.36120177807,0.54983381911,-0.0427499132421,5.84681764818e-05,-0.000137675884009,-0.017294721775,-0.00931275184841,-0.011618786295]\n",
      "Intercept: -0.04354048423702415\n"
     ]
    }
   ],
   "source": [
    "print(\"Coefficients: \" + str(LR_model.coefficients)) \n",
    "print(\"Intercept: \" + str(LR_model.intercept))"
   ]
  },
  {
   "cell_type": "code",
   "execution_count": 47,
   "metadata": {
    "scrolled": false
   },
   "outputs": [
    {
     "data": {
      "text/plain": [
       "[0.16550000000000001,\n",
       " 2.2681,\n",
       " 2.3302,\n",
       " 2.9420999999999999,\n",
       " 2.3612000000000002,\n",
       " 0.54979999999999996,\n",
       " -0.042700000000000002,\n",
       " 0.0001,\n",
       " -0.0001,\n",
       " -0.017299999999999999,\n",
       " -0.0092999999999999992,\n",
       " -0.011599999999999999]"
      ]
     },
     "execution_count": 47,
     "metadata": {},
     "output_type": "execute_result"
    }
   ],
   "source": [
    "[np.round(num, 4) for num in LR_model.coefficients]"
   ]
  },
  {
   "cell_type": "code",
   "execution_count": 39,
   "metadata": {
    "scrolled": true
   },
   "outputs": [
    {
     "data": {
      "text/plain": [
       "['genderclassVec',\n",
       " 'platformclassVec',\n",
       " 'levelclassVec',\n",
       " 'registered_days',\n",
       " 'nunique_artist',\n",
       " 'avg_num_songs_ses',\n",
       " 'num_ses',\n",
       " 'avg_nextsong_ses',\n",
       " 'avg_addplay_ses']"
      ]
     },
     "execution_count": 39,
     "metadata": {},
     "output_type": "execute_result"
    }
   ],
   "source": [
    "# Variables of the coefficients:\n",
    "# 1 for gender, 4 for platform, 1 for level, 1 for each numeric\n",
    "assemblerInputs"
   ]
  },
  {
   "cell_type": "markdown",
   "metadata": {},
   "source": [
    "---"
   ]
  },
  {
   "cell_type": "code",
   "execution_count": 19,
   "metadata": {},
   "outputs": [],
   "source": [
    "def fit_predict(train, test, model):\n",
    "    \"\"\"\n",
    "    Fits and runs predictions with given training and test data\n",
    "    Displays results for given model through function evaluate_model\n",
    "    model: name of the model as a string\n",
    "    \"\"\"\n",
    "    start = time.time() \n",
    "\n",
    "    if model == 'logistic_regression':\n",
    "        ml = LogisticRegression(maxIter=20)\n",
    "    elif model == 'random_forest':\n",
    "        ml = RandomForestClassifier(seed=1997)\n",
    "    elif model == 'gradient_boosting':\n",
    "        ml = GBTClassifier(seed=1997)\n",
    "    elif model == 'support_vector_class':\n",
    "        ml = LinearSVC()\n",
    "    else:\n",
    "        return \"Model introduced incorrectly\"\n",
    "    \n",
    "    # Fit and calculate predictions\n",
    "    clf = ml.fit(train)\n",
    "    results = clf.transform(test)\n",
    "\n",
    "    evaluate_model(results, model)\n",
    "    \n",
    "    end = time.time() \n",
    "    pred_time = (end-start)/60\n",
    "    print(\"Minutes to train the model: {:.2f}\".format(pred_time) )\n",
    "    \n",
    "    return clf, results # not used"
   ]
  },
  {
   "cell_type": "markdown",
   "metadata": {},
   "source": [
    "..."
   ]
  },
  {
   "cell_type": "code",
   "execution_count": 20,
   "metadata": {},
   "outputs": [],
   "source": [
    "def evaluate_model(results,model):\n",
    "    \"\"\"\n",
    "    Runs output evaluator on the prediction results\n",
    "    \"\"\"\n",
    "\n",
    "    f1_score_evaluator = MulticlassClassificationEvaluator(metricName='f1')\n",
    "    f1_score = f1_score_evaluator.evaluate(results.select(col('label'), col('prediction')))\n",
    "    \n",
    "    accuracy_score_evaluator = MulticlassClassificationEvaluator(metricName='accuracy')\n",
    "    accuracy_score = accuracy_score_evaluator.evaluate(results.select(col('label'), col('prediction')))\n",
    "    print('The F1 score for the', model, 'on the test set is {:.2%}'.format(f1_score)) \n",
    "    print('The accuracy score for the', model, 'on the test set is {:.2%}'.format(accuracy_score)) \n",
    "    \n",
    "    auc_evaluator = BinaryClassificationEvaluator()\n",
    "    metric_value = auc_evaluator.evaluate(results, {auc_evaluator.metricName: \"areaUnderROC\"})\n",
    "    print('The areaUnderROC for the', model, ' on the test set is {:.2%}'.format(metric_value))"
   ]
  },
  {
   "cell_type": "code",
   "execution_count": 37,
   "metadata": {
    "scrolled": false
   },
   "outputs": [
    {
     "name": "stdout",
     "output_type": "stream",
     "text": [
      "The F1 score for the logistic_regression on the test set is 80.32%\n",
      "The accuracy score for the logistic_regression on the test set is 81.82%\n",
      "The areaUnderROC for the logistic_regression  on the test set is 62.96%\n",
      "Minutes to train the model: 8.45\n",
      "The F1 score for the random_forest on the test set is 78.02%\n",
      "The accuracy score for the random_forest on the test set is 78.79%\n",
      "The areaUnderROC for the random_forest  on the test set is 55.56%\n",
      "Minutes to train the model: 6.37\n",
      "The F1 score for the gradient_boosting on the test set is 75.76%\n",
      "The accuracy score for the gradient_boosting on the test set is 75.76%\n",
      "The areaUnderROC for the gradient_boosting  on the test set is 55.56%\n",
      "Minutes to train the model: 10.40\n"
     ]
    }
   ],
   "source": [
    "# Fit various models and visualize their evaluation metrics\n",
    "for model in ['logistic_regression', 'random_forest', 'gradient_boosting']:\n",
    "    fit_predict(train, test, model)"
   ]
  },
  {
   "cell_type": "markdown",
   "metadata": {},
   "source": [
    "---"
   ]
  },
  {
   "cell_type": "markdown",
   "metadata": {},
   "source": [
    "Hyperparameter tuning:"
   ]
  },
  {
   "cell_type": "code",
   "execution_count": 21,
   "metadata": {},
   "outputs": [],
   "source": [
    "def tune_rf(train, test, numTrees=[20,40], maxDepth=[4,8]):\n",
    "    \"\"\"\n",
    "    Tunes numTrees and maxDepth parameters for random forest classifier\n",
    "    Runs gridsearch, evaluates the results and prints best parameters\n",
    "    \"\"\"\n",
    "    clf = RandomForestClassifier(seed=1997)\n",
    "    \n",
    "    paramGrid = ParamGridBuilder() \\\n",
    "        .addGrid(clf.numTrees, numTrees) \\\n",
    "        .addGrid(clf.maxDepth, maxDepth) \\\n",
    "        .build()   \n",
    "    \n",
    "    crossval = CrossValidator(estimator = Pipeline(stages=[clf]),\n",
    "                         estimatorParamMaps = paramGrid,\n",
    "                         evaluator = MulticlassClassificationEvaluator(metricName='f1'),\n",
    "                         numFolds = 2)\n",
    "\n",
    "    cvModel = crossval.fit(train)\n",
    "    predictions = cvModel.transform(test)\n",
    "    \n",
    "    evaluate_model(predictions, \"RF\")\n",
    "    \n",
    "    bestPipeline = cvModel.bestModel\n",
    "\n",
    "    return bestPipeline\n"
   ]
  },
  {
   "cell_type": "code",
   "execution_count": 22,
   "metadata": {
    "scrolled": false
   },
   "outputs": [
    {
     "name": "stdout",
     "output_type": "stream",
     "text": [
      "The F1 score for the RF on the test set is 73.77%\n",
      "The accuracy score for the RF on the test set is 75.76%\n",
      "The areaUnderROC for the RF  on the test set is 54.94%\n"
     ]
    }
   ],
   "source": [
    "results_tuning = tune_rf(train, test)"
   ]
  },
  {
   "cell_type": "code",
   "execution_count": 25,
   "metadata": {
    "scrolled": true
   },
   "outputs": [
    {
     "data": {
      "text/plain": [
       "SparseVector(12, {0: 0.027, 1: 0.0171, 2: 0.022, 3: 0.0068, 4: 0.0077, 5: 0.0204, 6: 0.336, 7: 0.1359, 8: 0.097, 9: 0.131, 10: 0.1002, 11: 0.0989})"
      ]
     },
     "execution_count": 25,
     "metadata": {},
     "output_type": "execute_result"
    }
   ],
   "source": [
    "results_tuning.stages[0].featureImportances"
   ]
  },
  {
   "cell_type": "code",
   "execution_count": 27,
   "metadata": {
    "scrolled": true
   },
   "outputs": [
    {
     "data": {
      "text/plain": [
       "['gender',\n",
       " 'platform',\n",
       " 'level',\n",
       " 'registered_days',\n",
       " 'label',\n",
       " 'nunique_artist',\n",
       " 'avg_num_songs_ses',\n",
       " 'num_ses',\n",
       " 'avg_nextsong_ses',\n",
       " 'avg_addplay_ses']"
      ]
     },
     "execution_count": 27,
     "metadata": {},
     "output_type": "execute_result"
    }
   ],
   "source": [
    "features_model.columns\n",
    "#It's important to take into account that the categorical variables have multiple columns (hot encoding)"
   ]
  },
  {
   "cell_type": "code",
   "execution_count": 41,
   "metadata": {},
   "outputs": [],
   "source": [
    "encoded_variables = [\"gender\",\"platform1\",\"platform2\",\"platform3\",\"platform4\",\"level\"] + num_cols"
   ]
  },
  {
   "cell_type": "code",
   "execution_count": 43,
   "metadata": {
    "scrolled": true
   },
   "outputs": [
    {
     "name": "stdout",
     "output_type": "stream",
     "text": [
      "gender : 0.02699034190233457 \n",
      "\n",
      "platform1 : 0.01710668298293331 \n",
      "\n",
      "platform2 : 0.021976519530360738 \n",
      "\n",
      "platform3 : 0.006775586316735651 \n",
      "\n",
      "platform4 : 0.007720388026172817 \n",
      "\n",
      "level : 0.02039378414581674 \n",
      "\n",
      "registered_days : 0.3360377327216369 \n",
      "\n",
      "nunique_artist : 0.13591180448401824 \n",
      "\n",
      "avg_num_songs_ses : 0.0969707814865977 \n",
      "\n",
      "num_ses : 0.13096341518453353 \n",
      "\n",
      "avg_nextsong_ses : 0.10024919581271366 \n",
      "\n",
      "avg_addplay_ses : 0.09890376740614606 \n",
      "\n"
     ]
    }
   ],
   "source": [
    "# prints feature importances\n",
    "for i in range(len(encoded_variables)):\n",
    "    print(\"{} : {} \\n\".format(encoded_variables[i], results_tuning.stages[0].featureImportances[i]))"
   ]
  },
  {
   "cell_type": "code",
   "execution_count": 44,
   "metadata": {},
   "outputs": [
    {
     "name": "stdout",
     "output_type": "stream",
     "text": [
      "gender : 0.02699034190233457 \n",
      "\n",
      "platform1 : 0.01710668298293331 \n",
      "\n",
      "platform2 : 0.021976519530360738 \n",
      "\n",
      "platform3 : 0.006775586316735651 \n",
      "\n",
      "platform4 : 0.007720388026172817 \n",
      "\n",
      "level : 0.02039378414581674 \n",
      "\n",
      "registered_days : 0.3360377327216369 \n",
      "\n",
      "nunique_artist : 0.13591180448401824 \n",
      "\n",
      "avg_num_songs_ses : 0.0969707814865977 \n",
      "\n",
      "num_ses : 0.13096341518453353 \n",
      "\n",
      "avg_nextsong_ses : 0.10024919581271366 \n",
      "\n",
      "avg_addplay_ses : 0.09890376740614606 \n",
      "\n",
      "Best parameters : max depth:8, num Trees:40\n"
     ]
    }
   ],
   "source": [
    "# prints feature importances\n",
    "for i in range(len(results_tuning.stages[0].featureImportances)):\n",
    "    print(\"{} : {} \\n\".format(encoded_variables[i], results_tuning.stages[0].featureImportances[i]))\n",
    "\n",
    "print('Best parameters : max depth:{}, num Trees:{}'.\\\n",
    "    format(results_tuning.stages[0].getOrDefault('maxDepth'), results_tuning.stages[0].getNumTrees))"
   ]
  },
  {
   "cell_type": "markdown",
   "metadata": {},
   "source": [
    "# Final Steps\n",
    "Clean up your code, adding comments and renaming variables to make the code easier to read and maintain. Refer to the Spark Project Overview page and Data Scientist Capstone Project Rubric to make sure you are including all components of the capstone project and meet all expectations. Remember, this includes thorough documentation in a README file in a Github repository, as well as a web app or blog post."
   ]
  },
  {
   "cell_type": "markdown",
   "metadata": {},
   "source": [
    "Done"
   ]
  }
 ],
 "metadata": {
  "kernelspec": {
   "display_name": "Python 3",
   "language": "python",
   "name": "python3"
  },
  "language_info": {
   "codemirror_mode": {
    "name": "ipython",
    "version": 3
   },
   "file_extension": ".py",
   "mimetype": "text/x-python",
   "name": "python",
   "nbconvert_exporter": "python",
   "pygments_lexer": "ipython3",
   "version": "3.6.3"
  }
 },
 "nbformat": 4,
 "nbformat_minor": 2
}
